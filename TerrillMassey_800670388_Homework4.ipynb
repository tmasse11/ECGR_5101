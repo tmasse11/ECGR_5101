{
 "cells": [
  {
   "cell_type": "markdown",
   "id": "bce75e4c-74b8-4f22-8a1b-2e25c35507a3",
   "metadata": {},
   "source": [
    "Homework 4 Report\n",
    "==================================================\n",
    "Note that the professor verbally mentioned that it was recommended to include both the explanations of the answers to the homework as well as the source code and plots needed for the homework in one single report. Therefore, the content in this report contains the answers and explanations for the homework as well as the underlying source code needed to provide these answers.\n",
    "\n",
    "\n",
    "- The GitHub link to the Assignment Repository is :\n",
    "- https://github.com/tmasse11/ECGR_5101\n",
    "\n",
    "- The GitHub link to the Jupyter Notebook is : \n",
    "- https://github.com/tmasse11/ECGR_5101/blob/main/TerrillMassey_800670388_Homework4.ipynb\n",
    "\n",
    "\n",
    "Author: Terrill Earl Massey\n",
    "Student ID: 800670388"
   ]
  },
  {
   "cell_type": "markdown",
   "id": "3632f3cc-a4ca-401a-9af9-827127ea719a",
   "metadata": {},
   "source": [
    "The resulting sections will cover explanations, code, and plots pertaining to PROBLEM 1 of the homework. \n",
    "===========================================================================================================================\n",
    "The task is to use the a cancer patient dataset and build a SVM classification model to classiy the type of cancer (Malignant vs. benign).  This will be done for all 30 input features. Afterwards we shall determine if we can train a logistic regression over these number of features. \n",
    " \n"
   ]
  },
  {
   "cell_type": "markdown",
   "id": "3c5c1d9e-ab58-459d-b046-0be647d92565",
   "metadata": {},
   "source": [
    "The First step is to load the cancer dataset."
   ]
  },
  {
   "cell_type": "code",
   "execution_count": 1,
   "id": "3aee8e55-721e-4f6e-be5a-e61be3e8681b",
   "metadata": {},
   "outputs": [],
   "source": [
    "import numpy as np\n",
    "import matplotlib.pyplot as plt\n",
    "import pandas as pd\n",
    "from sklearn.datasets import load_breast_cancer\n",
    "from sklearn.decomposition import PCA\n",
    "from sklearn.model_selection import train_test_split\n",
    "from sklearn.preprocessing import MinMaxScaler, StandardScaler"
   ]
  },
  {
   "cell_type": "code",
   "execution_count": 2,
   "id": "d489071e-3ff4-4355-b4ae-60650a4bdf94",
   "metadata": {},
   "outputs": [
    {
     "data": {
      "text/html": [
       "<div>\n",
       "<style scoped>\n",
       "    .dataframe tbody tr th:only-of-type {\n",
       "        vertical-align: middle;\n",
       "    }\n",
       "\n",
       "    .dataframe tbody tr th {\n",
       "        vertical-align: top;\n",
       "    }\n",
       "\n",
       "    .dataframe thead th {\n",
       "        text-align: right;\n",
       "    }\n",
       "</style>\n",
       "<table border=\"1\" class=\"dataframe\">\n",
       "  <thead>\n",
       "    <tr style=\"text-align: right;\">\n",
       "      <th></th>\n",
       "      <th>mean radius</th>\n",
       "      <th>mean texture</th>\n",
       "      <th>mean perimeter</th>\n",
       "      <th>mean area</th>\n",
       "      <th>mean smoothness</th>\n",
       "      <th>mean compactness</th>\n",
       "      <th>mean concavity</th>\n",
       "      <th>mean concave points</th>\n",
       "      <th>mean symmetry</th>\n",
       "      <th>mean fractal dimension</th>\n",
       "      <th>...</th>\n",
       "      <th>worst texture</th>\n",
       "      <th>worst perimeter</th>\n",
       "      <th>worst area</th>\n",
       "      <th>worst smoothness</th>\n",
       "      <th>worst compactness</th>\n",
       "      <th>worst concavity</th>\n",
       "      <th>worst concave points</th>\n",
       "      <th>worst symmetry</th>\n",
       "      <th>worst fractal dimension</th>\n",
       "      <th>label</th>\n",
       "    </tr>\n",
       "  </thead>\n",
       "  <tbody>\n",
       "    <tr>\n",
       "      <th>0</th>\n",
       "      <td>17.99</td>\n",
       "      <td>10.38</td>\n",
       "      <td>122.80</td>\n",
       "      <td>1001.0</td>\n",
       "      <td>0.11840</td>\n",
       "      <td>0.27760</td>\n",
       "      <td>0.3001</td>\n",
       "      <td>0.14710</td>\n",
       "      <td>0.2419</td>\n",
       "      <td>0.07871</td>\n",
       "      <td>...</td>\n",
       "      <td>17.33</td>\n",
       "      <td>184.60</td>\n",
       "      <td>2019.0</td>\n",
       "      <td>0.1622</td>\n",
       "      <td>0.6656</td>\n",
       "      <td>0.7119</td>\n",
       "      <td>0.2654</td>\n",
       "      <td>0.4601</td>\n",
       "      <td>0.11890</td>\n",
       "      <td>0.0</td>\n",
       "    </tr>\n",
       "    <tr>\n",
       "      <th>1</th>\n",
       "      <td>20.57</td>\n",
       "      <td>17.77</td>\n",
       "      <td>132.90</td>\n",
       "      <td>1326.0</td>\n",
       "      <td>0.08474</td>\n",
       "      <td>0.07864</td>\n",
       "      <td>0.0869</td>\n",
       "      <td>0.07017</td>\n",
       "      <td>0.1812</td>\n",
       "      <td>0.05667</td>\n",
       "      <td>...</td>\n",
       "      <td>23.41</td>\n",
       "      <td>158.80</td>\n",
       "      <td>1956.0</td>\n",
       "      <td>0.1238</td>\n",
       "      <td>0.1866</td>\n",
       "      <td>0.2416</td>\n",
       "      <td>0.1860</td>\n",
       "      <td>0.2750</td>\n",
       "      <td>0.08902</td>\n",
       "      <td>0.0</td>\n",
       "    </tr>\n",
       "    <tr>\n",
       "      <th>2</th>\n",
       "      <td>19.69</td>\n",
       "      <td>21.25</td>\n",
       "      <td>130.00</td>\n",
       "      <td>1203.0</td>\n",
       "      <td>0.10960</td>\n",
       "      <td>0.15990</td>\n",
       "      <td>0.1974</td>\n",
       "      <td>0.12790</td>\n",
       "      <td>0.2069</td>\n",
       "      <td>0.05999</td>\n",
       "      <td>...</td>\n",
       "      <td>25.53</td>\n",
       "      <td>152.50</td>\n",
       "      <td>1709.0</td>\n",
       "      <td>0.1444</td>\n",
       "      <td>0.4245</td>\n",
       "      <td>0.4504</td>\n",
       "      <td>0.2430</td>\n",
       "      <td>0.3613</td>\n",
       "      <td>0.08758</td>\n",
       "      <td>0.0</td>\n",
       "    </tr>\n",
       "    <tr>\n",
       "      <th>3</th>\n",
       "      <td>11.42</td>\n",
       "      <td>20.38</td>\n",
       "      <td>77.58</td>\n",
       "      <td>386.1</td>\n",
       "      <td>0.14250</td>\n",
       "      <td>0.28390</td>\n",
       "      <td>0.2414</td>\n",
       "      <td>0.10520</td>\n",
       "      <td>0.2597</td>\n",
       "      <td>0.09744</td>\n",
       "      <td>...</td>\n",
       "      <td>26.50</td>\n",
       "      <td>98.87</td>\n",
       "      <td>567.7</td>\n",
       "      <td>0.2098</td>\n",
       "      <td>0.8663</td>\n",
       "      <td>0.6869</td>\n",
       "      <td>0.2575</td>\n",
       "      <td>0.6638</td>\n",
       "      <td>0.17300</td>\n",
       "      <td>0.0</td>\n",
       "    </tr>\n",
       "    <tr>\n",
       "      <th>4</th>\n",
       "      <td>20.29</td>\n",
       "      <td>14.34</td>\n",
       "      <td>135.10</td>\n",
       "      <td>1297.0</td>\n",
       "      <td>0.10030</td>\n",
       "      <td>0.13280</td>\n",
       "      <td>0.1980</td>\n",
       "      <td>0.10430</td>\n",
       "      <td>0.1809</td>\n",
       "      <td>0.05883</td>\n",
       "      <td>...</td>\n",
       "      <td>16.67</td>\n",
       "      <td>152.20</td>\n",
       "      <td>1575.0</td>\n",
       "      <td>0.1374</td>\n",
       "      <td>0.2050</td>\n",
       "      <td>0.4000</td>\n",
       "      <td>0.1625</td>\n",
       "      <td>0.2364</td>\n",
       "      <td>0.07678</td>\n",
       "      <td>0.0</td>\n",
       "    </tr>\n",
       "  </tbody>\n",
       "</table>\n",
       "<p>5 rows × 31 columns</p>\n",
       "</div>"
      ],
      "text/plain": [
       "   mean radius  mean texture  mean perimeter  mean area  mean smoothness  \\\n",
       "0        17.99         10.38          122.80     1001.0          0.11840   \n",
       "1        20.57         17.77          132.90     1326.0          0.08474   \n",
       "2        19.69         21.25          130.00     1203.0          0.10960   \n",
       "3        11.42         20.38           77.58      386.1          0.14250   \n",
       "4        20.29         14.34          135.10     1297.0          0.10030   \n",
       "\n",
       "   mean compactness  mean concavity  mean concave points  mean symmetry  \\\n",
       "0           0.27760          0.3001              0.14710         0.2419   \n",
       "1           0.07864          0.0869              0.07017         0.1812   \n",
       "2           0.15990          0.1974              0.12790         0.2069   \n",
       "3           0.28390          0.2414              0.10520         0.2597   \n",
       "4           0.13280          0.1980              0.10430         0.1809   \n",
       "\n",
       "   mean fractal dimension  ...  worst texture  worst perimeter  worst area  \\\n",
       "0                 0.07871  ...          17.33           184.60      2019.0   \n",
       "1                 0.05667  ...          23.41           158.80      1956.0   \n",
       "2                 0.05999  ...          25.53           152.50      1709.0   \n",
       "3                 0.09744  ...          26.50            98.87       567.7   \n",
       "4                 0.05883  ...          16.67           152.20      1575.0   \n",
       "\n",
       "   worst smoothness  worst compactness  worst concavity  worst concave points  \\\n",
       "0            0.1622             0.6656           0.7119                0.2654   \n",
       "1            0.1238             0.1866           0.2416                0.1860   \n",
       "2            0.1444             0.4245           0.4504                0.2430   \n",
       "3            0.2098             0.8663           0.6869                0.2575   \n",
       "4            0.1374             0.2050           0.4000                0.1625   \n",
       "\n",
       "   worst symmetry  worst fractal dimension  label  \n",
       "0          0.4601                  0.11890    0.0  \n",
       "1          0.2750                  0.08902    0.0  \n",
       "2          0.3613                  0.08758    0.0  \n",
       "3          0.6638                  0.17300    0.0  \n",
       "4          0.2364                  0.07678    0.0  \n",
       "\n",
       "[5 rows x 31 columns]"
      ]
     },
     "execution_count": 2,
     "metadata": {},
     "output_type": "execute_result"
    }
   ],
   "source": [
    "breast_cancer = load_breast_cancer()\n",
    "input_data = breast_cancer.data\n",
    "labels = np.reshape(breast_cancer.target, (569,1))\n",
    "\n",
    "breast_data = np.concatenate([input_data, labels], axis=1)\n",
    "breast_data_df = pd.DataFrame(breast_data)\n",
    "\n",
    "features = breast_cancer.feature_names\n",
    "features_labels = np.append(features, 'label')\n",
    "breast_data_df.columns = features_labels\n",
    "breast_data_df.head()"
   ]
  },
  {
   "cell_type": "markdown",
   "id": "4db96cd0-3bc7-4d92-a33a-b086ee17575d",
   "metadata": {},
   "source": [
    "The next step is to Perform Preproccesing(Input Normalization) and PCA to the input datasets. Afterwards the input data and associated labels are split into a training and validation dataspace with an 80%, 20% split respectively. The percent variance of each principal component is displayed."
   ]
  },
  {
   "cell_type": "code",
   "execution_count": 3,
   "id": "d553a46f-e358-4a4d-a8bd-33b207c512f4",
   "metadata": {},
   "outputs": [
    {
     "data": {
      "image/png": "[encoded data removed]",
      "text/plain": [
       "<Figure size 432x288 with 1 Axes>"
      ]
     },
     "metadata": {
      "needs_background": "light"
     },
     "output_type": "display_data"
    }
   ],
   "source": [
    "input_data = breast_data_df.values[:, :-1]\n",
    "labels = breast_data_df.values[:, -1]\n",
    "\n",
    "\n",
    "# Perform min max scaler on input data.\n",
    "scaler = MinMaxScaler()\n",
    "input_data = scaler.fit_transform(input_data)\n",
    "\n",
    "# Split data for 80% 20% split.\n",
    "training_data, validation_data, training_labels_pcs, validation_labels_pcs = train_test_split(input_data, labels, train_size=0.8, test_size=0.2, random_state=42)\n",
    "                                                                                              \n",
    "\n",
    "\n",
    "# Perform Principal Component Analysis on Input Data.\n",
    "pca = PCA()\n",
    "training_data_pcs = pca.fit_transform(training_data)\n",
    "validation_data_pcs = pca.transform(validation_data)\n",
    "\n",
    "# Variance for each Principal Component: \n",
    "explained_variance = 100 * pca.explained_variance_ratio_\n",
    "\n",
    "plt.plot(range(1, len(explained_variance) +1), explained_variance, label=\"Variance in Percent\")\n",
    "plt.title(\"Percent Variance for Each Principal Component\")\n",
    "plt.xlabel(\"Principal Component\")\n",
    "plt.ylabel(\"Variance (%)\")\n",
    "plt.legend()\n",
    "plt.grid()\n",
    "plt.show()\n",
    "\n",
    "\n"
   ]
  },
  {
   "cell_type": "markdown",
   "id": "6cc5c461-d5af-480d-a097-428fe5a93228",
   "metadata": {},
   "source": [
    "As illustrated in the output of section [8], principal component 1 contains the most variance, and each subsequent principal component contains less variance. This shows that most of the information could be fit into the first few principal components. "
   ]
  },
  {
   "cell_type": "markdown",
   "id": "ab29d4e7-c904-49db-a972-1cd613891735",
   "metadata": {},
   "source": [
    "The next step is to build an SVM classifier to classify the type of cancer. The types of cancers are Malignant(positive classification) or benign (negative classification). \n",
    "During the SVM classifier construction, multiple K component values will be used in order to determine the optimum K value that yields the highest classification accuracy. A linear kernel will be used in the SVM classifier while locating the optimum K value."
   ]
  },
  {
   "cell_type": "code",
   "execution_count": 4,
   "id": "9ab3969b-8268-4955-961f-94dd60e53976",
   "metadata": {},
   "outputs": [],
   "source": [
    "from sklearn import metrics\n",
    "from sklearn.linear_model import LogisticRegression\n",
    "from sklearn.svm import SVC\n",
    "\n",
    "\n",
    "max_possible_k_components = training_data.shape[1]\n",
    "\n",
    "accuracy_history = np.zeros(max_possible_k_components)\n",
    "precision_history = np.zeros(max_possible_k_components)\n",
    "recall_history = np.zeros(max_possible_k_components)\n",
    "best_k_value = 0\n",
    "best_accuracy = 0\n",
    "\n",
    "for num_principal_components in range(1, max_possible_k_components+1):\n",
    "    \n",
    "    model = SVC(kernel='linear') # Create a Support Vector Machine Classifier with a linear kernel. \n",
    "    model.fit(training_data_pcs[:, :num_principal_components], training_labels_pcs) # Fit the model only for the amount of principal components for the current iteration.\n",
    "    predictions = model.predict(validation_data_pcs[:, :num_principal_components])\n",
    "    \n",
    "    # Perform metrics for the SVM classification model.\n",
    "    precision_history[num_principal_components-1] = metrics.precision_score(validation_labels_pcs, predictions)\n",
    "    recall_history[num_principal_components-1] = metrics.recall_score(validation_labels_pcs, predictions)\n",
    "    accuracy_history[num_principal_components-1] = metrics.accuracy_score(validation_labels_pcs, predictions)\n",
    "    \n",
    "    # Determine if the current SVM classification model produces the best classification accuracy. \n",
    "    if metrics.accuracy_score(validation_labels_pcs, predictions) > best_accuracy:\n",
    "        best_accuracy = metrics.accuracy_score(validation_labels_pcs, predictions)\n",
    "        best_k_value = num_principal_components\n",
    "        \n",
    "\n",
    "\n",
    "\n",
    "        \n",
    "    \n",
    "    \n",
    "    \n",
    "\n",
    "\n"
   ]
  },
  {
   "cell_type": "markdown",
   "id": "061e37bb-49a9-4bfe-8b31-bdc775b3145e",
   "metadata": {},
   "source": [
    "<b>Answer to Question 1 of Problem 1 </b> Based on the search algorithm in section immediately above, the optimum K value is displayed in the section immediately below. "
   ]
  },
  {
   "cell_type": "code",
   "execution_count": 5,
   "id": "8a96f500-debb-4bdd-bdf2-76f7a19b86f4",
   "metadata": {},
   "outputs": [
    {
     "name": "stdout",
     "output_type": "stream",
     "text": [
      "Optimium K Value :  5\n",
      "Model Accuracy Score at Best K Value: 0.9825\n",
      "Model Recall Score at Best K Value: 1.0000\n",
      "Model Precision Score at Best K Value: 0.9726\n"
     ]
    }
   ],
   "source": [
    "print(\"Optimium K Value : \", best_k_value)\n",
    "print(\"Model Accuracy Score at Best K Value: {:.4f}\".format(accuracy_history[best_k_value-1]))\n",
    "print(\"Model Recall Score at Best K Value: {:.4f}\".format(recall_history[best_k_value - 1]))\n",
    "print(\"Model Precision Score at Best K Value: {:.4f}\".format(precision_history[best_k_value - 1]))"
   ]
  },
  {
   "cell_type": "markdown",
   "id": "0dde0ff8-9526-47bf-b2c0-1eabbce5ff5f",
   "metadata": {},
   "source": [
    "<b> Answer to Question 2 of Problem 1 </b> The classification accuracy, precision, and recall over various K values are presented in the section immediately below. As illustrated in the plot of section immediately below, the recall, precision and accuracy does not change after the optimium K Value is met. This is because all of the needed information for the best model performance is stored in the first optimum K value(5) components. All subsequent principal components contain neglible information that could be used to help with model performance."
   ]
  },
  {
   "cell_type": "code",
   "execution_count": 6,
   "id": "65dc8ab7-9505-49f7-b6b1-54e2e352ff2d",
   "metadata": {},
   "outputs": [
    {
     "data": {
      "image/png": "[encoded data removed]",
      "text/plain": [
       "<Figure size 432x288 with 1 Axes>"
      ]
     },
     "metadata": {
      "needs_background": "light"
     },
     "output_type": "display_data"
    }
   ],
   "source": [
    "plt.plot(range(1, max_possible_k_components+1), precision_history, label=\"Precision\")\n",
    "plt.plot(range(1, max_possible_k_components+1), recall_history, label=\"Recall\")\n",
    "plt.plot(range(1, max_possible_k_components+1), accuracy_history, label=\"Accuracy\")\n",
    "plt.xlabel(\"Number of Principal Components Used in Model\")\n",
    "plt.ylabel(\"Metric Value\")\n",
    "plt.legend()\n",
    "plt.grid()\n",
    "plt.title(\"Validation Precision, Recall, and Accuracy for Various SVC Models Trained with Different Number of Principal Components\")\n",
    "plt.show()\n"
   ]
  },
  {
   "cell_type": "markdown",
   "id": "1e6f8952-b233-446c-97e8-69bee6bc5d8b",
   "metadata": {},
   "source": [
    "# "
   ]
  },
  {
   "cell_type": "markdown",
   "id": "0f1d8db4-5c5a-4c3f-8f3b-411902344728",
   "metadata": {},
   "source": [
    "<b> Answer to Question 3 of Problem 1 </b> The below sections contain the answer to question 3.  Different Kernel methods are used with SVM classifier with the optimum K Value (5). The accuracies of each kernel method will then be compared."
   ]
  },
  {
   "cell_type": "code",
   "execution_count": 7,
   "id": "ee56c2ac-8eb5-4c0c-9915-2561ee7c07b0",
   "metadata": {},
   "outputs": [
    {
     "data": {
      "image/png": "[encoded data removed]",
      "text/plain": [
       "<Figure size 432x288 with 1 Axes>"
      ]
     },
     "metadata": {
      "needs_background": "light"
     },
     "output_type": "display_data"
    },
    {
     "name": "stdout",
     "output_type": "stream",
     "text": [
      "Kernel Method with Best Accuracy:  linear\n",
      "Best Accuracy:  0.9824561403508771\n"
     ]
    }
   ],
   "source": [
    "kernel_methods = ['linear', 'poly', 'rbf', 'sigmoid']\n",
    "polynomial_degree = [3, 4, 5, 6, 7, 8]\n",
    "accuracy_history = [] \n",
    "kernel_name = []\n",
    "\n",
    "for kernel_method in kernel_methods:\n",
    "    if kernel_method == 'poly':\n",
    "        for degree in polynomial_degree:\n",
    "            kernel_name.append(\"polynomial_deg_{}\".format(degree))\n",
    "            model = SVC(kernel=kernel_method, degree=degree) # Create a Support Vector Machine Classifier with a polynomial kernel. \n",
    "            model.fit(training_data_pcs[:, :best_k_value], training_labels_pcs) # Fit the model with optimum K-value.\n",
    "            predictions = model.predict(validation_data_pcs[:, :best_k_value])\n",
    "            accuracy_history.append(metrics.accuracy_score(validation_labels_pcs, predictions))   \n",
    "    \n",
    "    else:\n",
    "        kernel_name.append(kernel_method)\n",
    "        model = SVC(kernel=kernel_method) # Create a Support Vector Machine Classifier with a specified kernel. \n",
    "        model.fit(training_data_pcs[:, :best_k_value], training_labels_pcs) # Fit the model with optimum K-value.\n",
    "        predictions = model.predict(validation_data_pcs[:, :best_k_value])\n",
    "        accuracy_history.append(metrics.accuracy_score(validation_labels_pcs, predictions))\n",
    "        \n",
    "\n",
    "# Plot the accuracies of each kernel method. \n",
    "plt.bar(kernel_name, accuracy_history)\n",
    "plt.xlabel(\"Kernel Type\")\n",
    "plt.ylabel(\"Accuracy Score\")\n",
    "plt.xticks(rotation=90)\n",
    "plt.title(\"SVC Accuracy Score for Each Kernelization Technique\")\n",
    "plt.show()\n",
    "\n",
    "best_accuracy = max(accuracy_history)\n",
    "best_accuracy_indx = accuracy_history.index(best_accuracy)\n",
    "\n",
    "print(\"Kernel Method with Best Accuracy: \", kernel_name[best_accuracy_indx])\n",
    "print(\"Best Accuracy: \", best_accuracy)\n",
    "\n"
   ]
  },
  {
   "cell_type": "markdown",
   "id": "5168860e-0e9f-4643-9df5-39640c969330",
   "metadata": {},
   "source": [
    "<b> Answer to Question 4 of Problem 1 </b> The below sections contain the answer to question 4. "
   ]
  },
  {
   "cell_type": "markdown",
   "id": "830aaa38-3a44-407c-bee8-490f2fee0892",
   "metadata": {},
   "source": [
    "The accuracy score of the logistic regressor using PCA analysis in Homework 3 was found to be 0.9825. This accuracy was achieved with 5 principal components used by the logistic regressor.  As illustrated in the figure(bar graph that displays the accuracy of each kernel function used in SVC) in the code block immediately above, the best accuracy score for SVC is 0.982456. It is speculated that the SVC accuracy is essentially the same as the accuracy of the logistic regressor because the dataset itself is currently linearly seperable in its original dimensions."
   ]
  },
  {
   "cell_type": "markdown",
   "id": "384f7a3f-2532-416f-8de8-4e2a5d422cce",
   "metadata": {},
   "source": [
    "The resulting sections will cover explanations, code, and plots pertaining to PROBLEM 2 of the homework. \n",
    "===========================================================================================================================\n",
    "The task is to use the housing dataset(previously used in homework 1) and build a SVM regression model to predict housing price. We will then compare the loss of the SVM regression model to the linear regression model with regularization loss that was obtained in Homework 1. For consistency, the SVM regression model will consider the same input features that were used in Question 3b of Homework 1. \n",
    "\n",
    "These input features of interest are as follows: \n",
    "- area\n",
    "- bedrooms\n",
    "- bathrooms\n",
    "- stories\n",
    "- mainroad\n",
    "- guestroom\n",
    "- basement\n",
    "- hotwaterheating\n",
    "- airconditioning\n",
    "\n",
    "The results and implementation details of Homework 1 can be found at https://github.com/tmasse11/ECGR_5101/blob/main/TerrillMassey_800670388_Homework1.ipynb"
   ]
  },
  {
   "cell_type": "markdown",
   "id": "13a702be-0478-40ca-8d59-4886ff001464",
   "metadata": {},
   "source": [
    " We shall first read in and format the input explanatory values and output values"
   ]
  },
  {
   "cell_type": "code",
   "execution_count": 8,
   "id": "6e3a5819-b6c2-4d74-81ad-2d5edbcee978",
   "metadata": {},
   "outputs": [
    {
     "name": "stdout",
     "output_type": "stream",
     "text": [
      "Number of Training Points 545\n",
      "\n",
      "<class 'pandas.core.frame.DataFrame'>\n",
      "RangeIndex: 545 entries, 0 to 544\n",
      "Data columns (total 13 columns):\n",
      " #   Column            Non-Null Count  Dtype \n",
      "---  ------            --------------  ----- \n",
      " 0   price             545 non-null    int64 \n",
      " 1   area              545 non-null    int64 \n",
      " 2   bedrooms          545 non-null    int64 \n",
      " 3   bathrooms         545 non-null    int64 \n",
      " 4   stories           545 non-null    int64 \n",
      " 5   mainroad          545 non-null    object\n",
      " 6   guestroom         545 non-null    object\n",
      " 7   basement          545 non-null    object\n",
      " 8   hotwaterheating   545 non-null    object\n",
      " 9   airconditioning   545 non-null    object\n",
      " 10  parking           545 non-null    int64 \n",
      " 11  prefarea          545 non-null    object\n",
      " 12  furnishingstatus  545 non-null    object\n",
      "dtypes: int64(6), object(7)\n",
      "memory usage: 55.5+ KB\n",
      "\n",
      "================================\n"
     ]
    },
    {
     "data": {
      "text/html": [
       "<div>\n",
       "<style scoped>\n",
       "    .dataframe tbody tr th:only-of-type {\n",
       "        vertical-align: middle;\n",
       "    }\n",
       "\n",
       "    .dataframe tbody tr th {\n",
       "        vertical-align: top;\n",
       "    }\n",
       "\n",
       "    .dataframe thead th {\n",
       "        text-align: right;\n",
       "    }\n",
       "</style>\n",
       "<table border=\"1\" class=\"dataframe\">\n",
       "  <thead>\n",
       "    <tr style=\"text-align: right;\">\n",
       "      <th></th>\n",
       "      <th>price</th>\n",
       "      <th>area</th>\n",
       "      <th>bedrooms</th>\n",
       "      <th>bathrooms</th>\n",
       "      <th>stories</th>\n",
       "      <th>mainroad</th>\n",
       "      <th>guestroom</th>\n",
       "      <th>basement</th>\n",
       "      <th>hotwaterheating</th>\n",
       "      <th>airconditioning</th>\n",
       "      <th>parking</th>\n",
       "      <th>prefarea</th>\n",
       "      <th>furnishingstatus</th>\n",
       "    </tr>\n",
       "  </thead>\n",
       "  <tbody>\n",
       "    <tr>\n",
       "      <th>0</th>\n",
       "      <td>13300000</td>\n",
       "      <td>7420</td>\n",
       "      <td>4</td>\n",
       "      <td>2</td>\n",
       "      <td>3</td>\n",
       "      <td>yes</td>\n",
       "      <td>no</td>\n",
       "      <td>no</td>\n",
       "      <td>no</td>\n",
       "      <td>yes</td>\n",
       "      <td>2</td>\n",
       "      <td>yes</td>\n",
       "      <td>furnished</td>\n",
       "    </tr>\n",
       "    <tr>\n",
       "      <th>1</th>\n",
       "      <td>12250000</td>\n",
       "      <td>8960</td>\n",
       "      <td>4</td>\n",
       "      <td>4</td>\n",
       "      <td>4</td>\n",
       "      <td>yes</td>\n",
       "      <td>no</td>\n",
       "      <td>no</td>\n",
       "      <td>no</td>\n",
       "      <td>yes</td>\n",
       "      <td>3</td>\n",
       "      <td>no</td>\n",
       "      <td>furnished</td>\n",
       "    </tr>\n",
       "    <tr>\n",
       "      <th>2</th>\n",
       "      <td>12250000</td>\n",
       "      <td>9960</td>\n",
       "      <td>3</td>\n",
       "      <td>2</td>\n",
       "      <td>2</td>\n",
       "      <td>yes</td>\n",
       "      <td>no</td>\n",
       "      <td>yes</td>\n",
       "      <td>no</td>\n",
       "      <td>no</td>\n",
       "      <td>2</td>\n",
       "      <td>yes</td>\n",
       "      <td>semi-furnished</td>\n",
       "    </tr>\n",
       "    <tr>\n",
       "      <th>3</th>\n",
       "      <td>12215000</td>\n",
       "      <td>7500</td>\n",
       "      <td>4</td>\n",
       "      <td>2</td>\n",
       "      <td>2</td>\n",
       "      <td>yes</td>\n",
       "      <td>no</td>\n",
       "      <td>yes</td>\n",
       "      <td>no</td>\n",
       "      <td>yes</td>\n",
       "      <td>3</td>\n",
       "      <td>yes</td>\n",
       "      <td>furnished</td>\n",
       "    </tr>\n",
       "    <tr>\n",
       "      <th>4</th>\n",
       "      <td>11410000</td>\n",
       "      <td>7420</td>\n",
       "      <td>4</td>\n",
       "      <td>1</td>\n",
       "      <td>2</td>\n",
       "      <td>yes</td>\n",
       "      <td>yes</td>\n",
       "      <td>yes</td>\n",
       "      <td>no</td>\n",
       "      <td>yes</td>\n",
       "      <td>2</td>\n",
       "      <td>no</td>\n",
       "      <td>furnished</td>\n",
       "    </tr>\n",
       "  </tbody>\n",
       "</table>\n",
       "</div>"
      ],
      "text/plain": [
       "      price  area  bedrooms  bathrooms  stories mainroad guestroom basement  \\\n",
       "0  13300000  7420         4          2        3      yes        no       no   \n",
       "1  12250000  8960         4          4        4      yes        no       no   \n",
       "2  12250000  9960         3          2        2      yes        no      yes   \n",
       "3  12215000  7500         4          2        2      yes        no      yes   \n",
       "4  11410000  7420         4          1        2      yes       yes      yes   \n",
       "\n",
       "  hotwaterheating airconditioning  parking prefarea furnishingstatus  \n",
       "0              no             yes        2      yes        furnished  \n",
       "1              no             yes        3       no        furnished  \n",
       "2              no              no        2      yes   semi-furnished  \n",
       "3              no             yes        3      yes        furnished  \n",
       "4              no             yes        2       no        furnished  "
      ]
     },
     "execution_count": 8,
     "metadata": {},
     "output_type": "execute_result"
    }
   ],
   "source": [
    "import numpy as np\n",
    "import pandas as pd\n",
    "import matplotlib.pyplot as plt\n",
    "import seaborn as sns\n",
    "from sklearn.model_selection import train_test_split\n",
    "\n",
    "housing_data = pd.DataFrame(pd.read_csv(r\"Housing.csv\")) # Read in the Housing Data Dataset\n",
    "M = len(housing_data) # Number of training Points\n",
    "print(\"Number of Training Points\", M)\n",
    "print(\"\") # For display \n",
    "housing_data.info() # Display data types of the input variables.\n",
    "print(\"\")\n",
    "print(\"================================\")\n",
    "housing_data.head()\n"
   ]
  },
  {
   "cell_type": "markdown",
   "id": "5f3e1c77-6b99-4a24-bf6c-88749d666ed3",
   "metadata": {},
   "source": [
    "The next step is to format the input variables with binary classification to a format that can be used by a regression line. This is done by converting inputs with \"yes\" or \"no\" values to 1 and 0s respectively"
   ]
  },
  {
   "cell_type": "code",
   "execution_count": 9,
   "id": "d2afc798-f25f-41ae-a25b-9e5fe7f8bc27",
   "metadata": {},
   "outputs": [
    {
     "data": {
      "text/html": [
       "<div>\n",
       "<style scoped>\n",
       "    .dataframe tbody tr th:only-of-type {\n",
       "        vertical-align: middle;\n",
       "    }\n",
       "\n",
       "    .dataframe tbody tr th {\n",
       "        vertical-align: top;\n",
       "    }\n",
       "\n",
       "    .dataframe thead th {\n",
       "        text-align: right;\n",
       "    }\n",
       "</style>\n",
       "<table border=\"1\" class=\"dataframe\">\n",
       "  <thead>\n",
       "    <tr style=\"text-align: right;\">\n",
       "      <th></th>\n",
       "      <th>price</th>\n",
       "      <th>area</th>\n",
       "      <th>bedrooms</th>\n",
       "      <th>bathrooms</th>\n",
       "      <th>stories</th>\n",
       "      <th>mainroad</th>\n",
       "      <th>guestroom</th>\n",
       "      <th>basement</th>\n",
       "      <th>hotwaterheating</th>\n",
       "      <th>airconditioning</th>\n",
       "      <th>parking</th>\n",
       "      <th>prefarea</th>\n",
       "      <th>furnishingstatus</th>\n",
       "    </tr>\n",
       "  </thead>\n",
       "  <tbody>\n",
       "    <tr>\n",
       "      <th>0</th>\n",
       "      <td>13300000</td>\n",
       "      <td>7420</td>\n",
       "      <td>4</td>\n",
       "      <td>2</td>\n",
       "      <td>3</td>\n",
       "      <td>1</td>\n",
       "      <td>0</td>\n",
       "      <td>0</td>\n",
       "      <td>0</td>\n",
       "      <td>1</td>\n",
       "      <td>2</td>\n",
       "      <td>1</td>\n",
       "      <td>furnished</td>\n",
       "    </tr>\n",
       "    <tr>\n",
       "      <th>1</th>\n",
       "      <td>12250000</td>\n",
       "      <td>8960</td>\n",
       "      <td>4</td>\n",
       "      <td>4</td>\n",
       "      <td>4</td>\n",
       "      <td>1</td>\n",
       "      <td>0</td>\n",
       "      <td>0</td>\n",
       "      <td>0</td>\n",
       "      <td>1</td>\n",
       "      <td>3</td>\n",
       "      <td>0</td>\n",
       "      <td>furnished</td>\n",
       "    </tr>\n",
       "    <tr>\n",
       "      <th>2</th>\n",
       "      <td>12250000</td>\n",
       "      <td>9960</td>\n",
       "      <td>3</td>\n",
       "      <td>2</td>\n",
       "      <td>2</td>\n",
       "      <td>1</td>\n",
       "      <td>0</td>\n",
       "      <td>1</td>\n",
       "      <td>0</td>\n",
       "      <td>0</td>\n",
       "      <td>2</td>\n",
       "      <td>1</td>\n",
       "      <td>semi-furnished</td>\n",
       "    </tr>\n",
       "    <tr>\n",
       "      <th>3</th>\n",
       "      <td>12215000</td>\n",
       "      <td>7500</td>\n",
       "      <td>4</td>\n",
       "      <td>2</td>\n",
       "      <td>2</td>\n",
       "      <td>1</td>\n",
       "      <td>0</td>\n",
       "      <td>1</td>\n",
       "      <td>0</td>\n",
       "      <td>1</td>\n",
       "      <td>3</td>\n",
       "      <td>1</td>\n",
       "      <td>furnished</td>\n",
       "    </tr>\n",
       "    <tr>\n",
       "      <th>4</th>\n",
       "      <td>11410000</td>\n",
       "      <td>7420</td>\n",
       "      <td>4</td>\n",
       "      <td>1</td>\n",
       "      <td>2</td>\n",
       "      <td>1</td>\n",
       "      <td>1</td>\n",
       "      <td>1</td>\n",
       "      <td>0</td>\n",
       "      <td>1</td>\n",
       "      <td>2</td>\n",
       "      <td>0</td>\n",
       "      <td>furnished</td>\n",
       "    </tr>\n",
       "  </tbody>\n",
       "</table>\n",
       "</div>"
      ],
      "text/plain": [
       "      price  area  bedrooms  bathrooms  stories  mainroad  guestroom  \\\n",
       "0  13300000  7420         4          2        3         1          0   \n",
       "1  12250000  8960         4          4        4         1          0   \n",
       "2  12250000  9960         3          2        2         1          0   \n",
       "3  12215000  7500         4          2        2         1          0   \n",
       "4  11410000  7420         4          1        2         1          1   \n",
       "\n",
       "   basement  hotwaterheating  airconditioning  parking  prefarea  \\\n",
       "0         0                0                1        2         1   \n",
       "1         0                0                1        3         0   \n",
       "2         1                0                0        2         1   \n",
       "3         1                0                1        3         1   \n",
       "4         1                0                1        2         0   \n",
       "\n",
       "  furnishingstatus  \n",
       "0        furnished  \n",
       "1        furnished  \n",
       "2   semi-furnished  \n",
       "3        furnished  \n",
       "4        furnished  "
      ]
     },
     "execution_count": 9,
     "metadata": {},
     "output_type": "execute_result"
    }
   ],
   "source": [
    "input_variable_with_binary_classification = [ 'mainroad', 'guestroom', 'basement', 'hotwaterheating', 'airconditioning', 'prefarea']\n",
    "\n",
    "#Mapping function for \"yes\" \"no\" values to \"1\" and \"0\" values.\n",
    "def binary_map(x):\n",
    "    return x.map({'yes': 1, \"no\" : 0})\n",
    "\n",
    "# Apply mapping function to the housing dataset.\n",
    "housing_data[input_variable_with_binary_classification] = housing_data[input_variable_with_binary_classification].apply(binary_map)\n",
    "housing_data.head()\n"
   ]
  },
  {
   "cell_type": "markdown",
   "id": "9470ce04-0cf7-42e8-bf7f-3457844e93a6",
   "metadata": {},
   "source": [
    "The next step is to split the housing dataset into a training dataset and validation dataset. A 80% 20% split is used for training and validation spaces respectively. For Preprocessing, the dataset is first normalized. "
   ]
  },
  {
   "cell_type": "code",
   "execution_count": 10,
   "id": "e087f17c-5b26-4fec-9783-660cb8daca24",
   "metadata": {},
   "outputs": [
    {
     "name": "stdout",
     "output_type": "stream",
     "text": [
      "Training Dataset Shape:  (436, 9)\n",
      "Validation Dataset Shape:  (109, 9)\n"
     ]
    }
   ],
   "source": [
    "from sklearn.preprocessing import MinMaxScaler\n",
    "\n",
    "features_of_interest = ['area', 'bedrooms', 'bathrooms', 'stories', 'mainroad', 'guestroom', 'basement', 'hotwaterheating','airconditioning','price']\n",
    "data_of_interest = housing_data[features_of_interest] # Obtain the features of interest from the housing dataset.\n",
    "data_of_interest.head()\n",
    "\n",
    "scaler = MinMaxScaler()\n",
    "data_of_interest = scaler.fit_transform(data_of_interest) # Perform Normalization on the Input Data. Min Max Scaler is used.\n",
    "\n",
    "input_data = data_of_interest[:,:-1]  # Select the input features from features of interest\n",
    "labels = data_of_interest[:,-1] # Select the housing price as labels. \n",
    "\n",
    "# Randomly Split the input dataset and labels into training and validation sets. 80%, 20% split is used.\n",
    "df_training, df_validation, training_labels, validation_labels = train_test_split(input_data, labels, train_size=0.8, test_size=0.2, random_state=22) \n",
    "\n",
    "print(\"Training Dataset Shape: \", df_training.shape)\n",
    "print(\"Validation Dataset Shape: \", df_validation.shape)\n"
   ]
  },
  {
   "cell_type": "markdown",
   "id": "c97c74b8-0bf1-4db4-aa10-db29b0f86950",
   "metadata": {},
   "source": [
    "<b> Answer to Question 1 and Question 2 of Problem 2 </b> The below sections contain the answer to question 1 and 2.  "
   ]
  },
  {
   "cell_type": "code",
   "execution_count": 11,
   "id": "e1199b26-5b24-45fa-96df-dcfbf94c3d37",
   "metadata": {},
   "outputs": [
    {
     "name": "stdout",
     "output_type": "stream",
     "text": [
      "SVR RBF MSE Loss: 0.0116\n",
      "SVR Linear MSE Loss: 0.0121\n",
      "SVR Polynomial MSE Loss: 0.0107\n"
     ]
    }
   ],
   "source": [
    "from sklearn.svm import SVR\n",
    "from sklearn import metrics\n",
    "\n",
    "# Construct and Fit SVM Regression model\n",
    "\n",
    "svr_rbf_model = SVR(kernel='rbf', C=2, gamma=0.1) # SVR with Radial Bias Kernel Function. \n",
    "svr_linear_model = SVR(kernel='linear', C=0.5) # SVR with Linear Kernel Function.\n",
    "svr_polynomial_model = SVR(kernel='poly', C=0.25, degree=2) # SVR with Polynomial Kernel Function.\n",
    "\n",
    "svr_rbf_predictions = svr_rbf_model.fit(df_training, training_labels).predict(df_validation)\n",
    "svr_linear_predictions = svr_linear_model.fit(df_training, training_labels).predict(df_validation)\n",
    "svr_polynomial_predictions = svr_polynomial_model.fit(df_training, training_labels).predict(df_validation)\n",
    "\n",
    "\n",
    "\n",
    "# Obtain MSE loss for each SVR prediction\n",
    "svr_rbf_mse_loss = metrics.mean_squared_error(validation_labels, svr_rbf_predictions)\n",
    "svr_linear_mse_loss = metrics.mean_squared_error(validation_labels, svr_linear_predictions)\n",
    "svr_polynomial_mse_loss = metrics.mean_squared_error(validation_labels, svr_polynomial_predictions)\n",
    "\n",
    "\n",
    "print(\"SVR RBF MSE Loss: {:.4f}\".format(svr_rbf_mse_loss))\n",
    "print(\"SVR Linear MSE Loss: {:.4f}\".format(svr_linear_mse_loss))\n",
    "print(\"SVR Polynomial MSE Loss: {:.4f}\".format(svr_polynomial_mse_loss))"
   ]
  },
  {
   "cell_type": "markdown",
   "id": "90b460d6-b1a1-4f43-971a-2fb5b05d41ca",
   "metadata": {},
   "source": [
    "SVR models with different kernel functions were trained and used to predict the housing price in the df_validation dataset. Due to the high-dimensionality of this dataset, the regression model could not be plotted in a comprehensible format. \n",
    "\n",
    "The MSE Loss of each SVR model is also shown in the immediate code block above. The SVR model with the Polynomial kernel function contained the best validation loss of 0.0107.  The validation loss of the linear regression model with regularization used in Homework 1 was found to be 0.0091. It is speculated that the SVR model contains a higher validation loss than the linear regression model from homework 1 because the housing dataset itself may be linearly seperable without kernelization."
   ]
  },
  {
   "cell_type": "markdown",
   "id": "bfc10ee6-e8ee-41ee-bcb4-31a0aaf74d05",
   "metadata": {},
   "source": [
    "<b> Answer to Question 3 of Problem 2 </b> The below sections contain the answer to question 3. Since the Polynomial kernel function produced the best validation loss in  Question 1  of Problem 2, the same polynomial kernel function will be used for determining the optimal K value in PCA. "
   ]
  },
  {
   "cell_type": "code",
   "execution_count": 12,
   "id": "73de40e4-5b25-41c0-9d77-49529be4b945",
   "metadata": {},
   "outputs": [
    {
     "data": {
      "image/png": "[encoded data removed]",
      "text/plain": [
       "<Figure size 432x288 with 1 Axes>"
      ]
     },
     "metadata": {
      "needs_background": "light"
     },
     "output_type": "display_data"
    }
   ],
   "source": [
    "# Perform Principal Component Analysis on Input Data.\n",
    "pca_2 = PCA()\n",
    "training_data_pcs = pca_2.fit_transform(df_training)\n",
    "validation_data_pcs = pca_2.transform(df_validation)\n",
    "\n",
    "\n",
    "# Variance for each Principal Component: \n",
    "explained_variance = 100 * pca_2.explained_variance_ratio_\n",
    "\n",
    "plt.plot(range(1, len(explained_variance) +1), explained_variance, label=\"Variance in Percent\")\n",
    "plt.title(\"Percent Variance for Each Principal Component\")\n",
    "plt.xlabel(\"Principal Component\")\n",
    "plt.ylabel(\"Variance (%)\")\n",
    "plt.legend()\n",
    "plt.grid()\n",
    "plt.show()\n"
   ]
  },
  {
   "cell_type": "markdown",
   "id": "d48ae514-d3a9-44f9-8697-0a686413edc6",
   "metadata": {},
   "source": [
    "As illustrated in the output of section immediately above, principal component 1 contains the most variance, and each subsequent principal component contains less variance. The overall distribution in the plot suggests that not all information could be stored in the first 2 principal components. This could suggest that more principal components may be needed in order to achieve the best training accuracy.  The best accuracy will be determined by the lowest MSE Loss."
   ]
  },
  {
   "cell_type": "code",
   "execution_count": 13,
   "id": "5c16f2d7-816c-4c2f-ba8b-bf50a88fc77d",
   "metadata": {},
   "outputs": [
    {
     "name": "stdout",
     "output_type": "stream",
     "text": [
      "Optimium K Value :  9\n",
      "M.S.E. Loss at Best K Value: 0.0159\n"
     ]
    },
    {
     "data": {
      "image/png": "[encoded data removed]",
      "text/plain": [
       "<Figure size 432x288 with 1 Axes>"
      ]
     },
     "metadata": {
      "needs_background": "light"
     },
     "output_type": "display_data"
    }
   ],
   "source": [
    "\n",
    "max_possible_k_components = training_data_pcs.shape[1]\n",
    "\n",
    "loss_history = np.zeros(max_possible_k_components)\n",
    "\n",
    "best_k_value = 0\n",
    "best_loss = 1000\n",
    "\n",
    "for num_principal_components in range(1, max_possible_k_components+1):\n",
    "    \n",
    "    model = SVR(kernel='poly', C=0.25, degree=2) # SVR with Polynomial Kernel Function.\n",
    "    \n",
    "    model.fit(training_data_pcs[:, :num_principal_components], training_labels) # Fit the model only for the amount of principal components for the current iteration.\n",
    "    predictions = model.predict(validation_data_pcs[:, :num_principal_components])\n",
    "    \n",
    "    # Perform metrics for the SVM regression model.\n",
    "   \n",
    "    loss_history[num_principal_components-1] = metrics.mean_squared_error(validation_labels, predictions)\n",
    "    \n",
    "    # Determine if the current SVM regression model produces the best classification accuracy. \n",
    "    if metrics.mean_squared_error(validation_labels, predictions) < best_loss:\n",
    "        best_loss = metrics.mean_squared_error(validation_labels, predictions)\n",
    "        best_k_value = num_principal_components\n",
    "\n",
    "\n",
    "print(\"Optimium K Value : \", best_k_value)\n",
    "print(\"M.S.E. Loss at Best K Value: {:.4f}\".format(loss_history[best_k_value-1]))\n",
    "\n",
    "\n",
    "# Plot Recall, Accuracy, and Precision. \n",
    "\n",
    "plt.plot(range(1, max_possible_k_components+1), loss_history, label=\"M.S.E. Loss\")\n",
    "plt.xlabel(\"Number of Principal Components Used in Model\")\n",
    "plt.ylabel(\"Loss Value\")\n",
    "plt.legend()\n",
    "plt.grid()\n",
    "plt.title(\"MSE Loss for Various SVR Regression Models Trained with Different Number of Principal Components\")\n",
    "plt.show()\n",
    "\n",
    "\n"
   ]
  },
  {
   "cell_type": "markdown",
   "id": "b65bb9cb-f12a-4ea8-90ff-7586c36dfb6d",
   "metadata": {},
   "source": [
    "As indicated in the code block immediately above, the optimimum K value is 9. It is speculated that 9 is the optimal k value(k value that contains the lowest MSE loss) due to the inablility of the PCA to condense all information into the first 2 principal components as illustrated in section 12. As illustrated in section 12, the variance is spread out through a majority of the principal components."
   ]
  },
  {
   "cell_type": "markdown",
   "id": "f811d1db-3c39-40c7-9604-396bfe42df66",
   "metadata": {},
   "source": [
    "<b> Answer to Question 4 of Problem 2 </b> The below sections contain the answer to question 4. Since the optimal K value was determined to be 9. This K value will be used to perform various kernel tricks."
   ]
  },
  {
   "cell_type": "code",
   "execution_count": 14,
   "id": "85cc5891-bf65-4cf0-9be7-4cc3646dc9a3",
   "metadata": {},
   "outputs": [
    {
     "data": {
      "image/png": "[encoded data removed]",
      "text/plain": [
       "<Figure size 432x288 with 1 Axes>"
      ]
     },
     "metadata": {
      "needs_background": "light"
     },
     "output_type": "display_data"
    },
    {
     "name": "stdout",
     "output_type": "stream",
     "text": [
      "Kernel Method with Best Loss:  Polynomial 2nd Deg\n",
      "Best MSE Loss:  0.01067436598355474\n"
     ]
    }
   ],
   "source": [
    "\n",
    "\n",
    "\n",
    "kernel_functions = ['RBF', 'Linear', \"Polynomial 2nd Deg\", \"Polynomial 3rd Deg\", \"Polynomial 4th Deg\"]\n",
    "\n",
    "svr_rbf_model = SVR(kernel='rbf', C=2, gamma=0.1) # SVR with Radial Bias Kernel Function. \n",
    "svr_linear_model = SVR(kernel='linear', C=0.5) # SVR with Linear Kernel Function.\n",
    "svr_polynomial_model = SVR(kernel='poly', C=0.25, degree=2) # SVR with Polynomial Kernel Function.\n",
    "svr_polynomial_3_deg_model = SVR(kernel='poly', C=0.25, degree=3) # SVR with Polynomial Kernel Function.\n",
    "svr_polynomial_4_deg_model = SVR(kernel='poly', C=0.25, degree=4) # SVR with Polynomial Kernel Function.\n",
    "svr_rbf_predictions = svr_rbf_model.fit(df_training, training_labels).predict(df_validation)\n",
    "svr_linear_predictions = svr_linear_model.fit(df_training, training_labels).predict(df_validation)\n",
    "svr_polynomial_predictions = svr_polynomial_model.fit(df_training, training_labels).predict(df_validation)\n",
    "svr_polynomial_3_deg_predictions = svr_polynomial_3_deg_model.fit(df_training, training_labels).predict(df_validation)\n",
    "svr_polynomial_4_deg_predictions = svr_polynomial_4_deg_model.fit(df_training, training_labels).predict(df_validation)\n",
    "\n",
    "# Obtain MSE loss for each SVR prediction\n",
    "svr_rbf_mse_loss = metrics.mean_squared_error(validation_labels, svr_rbf_predictions)\n",
    "svr_linear_mse_loss = metrics.mean_squared_error(validation_labels, svr_linear_predictions)\n",
    "svr_polynomial_mse_loss = metrics.mean_squared_error(validation_labels, svr_polynomial_predictions)\n",
    "svr_polynomial_3_deg_mse_loss = metrics.mean_squared_error(validation_labels, svr_polynomial_3_deg_predictions)\n",
    "svr_polynomial_4_deg_mse_loss = metrics.mean_squared_error(validation_labels, svr_polynomial_4_deg_predictions)\n",
    "\n",
    "regression_history = [svr_rbf_mse_loss, svr_linear_mse_loss, svr_polynomial_mse_loss, svr_polynomial_3_deg_mse_loss, svr_polynomial_4_deg_mse_loss]\n",
    "\n",
    "# Plot the Final MSE Loss of each kernel method. \n",
    "plt.bar(kernel_functions, regression_history)\n",
    "plt.xlabel(\"Kernel Type\")\n",
    "plt.ylabel(\"MSE Loss\")\n",
    "plt.xticks(rotation=90)\n",
    "plt.title(\"SVR Final MSE Loss for Each Kernelization Technique\")\n",
    "plt.show()\n",
    "\n",
    "best_loss = min(regression_history)\n",
    "best_loss_indx = regression_history.index(best_loss)\n",
    "\n",
    "print(\"Kernel Method with Best Loss: \", kernel_functions[best_loss_indx])\n",
    "print(\"Best MSE Loss: \", best_loss)\n",
    "\n",
    "\n",
    "\n",
    "\n"
   ]
  },
  {
   "cell_type": "markdown",
   "id": "0b0b2fb4-d8d3-4db2-a54e-8dd274211d19",
   "metadata": {},
   "source": [
    "The code section immediately above contains the plot \"SVR Final MSE Loss for Each Kernelization Technique\" this plot displays the Final MSE loss for each kernel function used in the SVR model. As illustrated in this plot, the kernel method with the best MSE loss(lowest loss) is the Polynomial 2nd Degree function. It is speculated that this kernel function has the best MSE loss due to the nature of the input data. The input data may contain a somewhat polynomial regression trend. "
   ]
  },
  {
   "cell_type": "code",
   "execution_count": null,
   "id": "401c7c5c-ccca-46da-b389-d3419f5fc6e7",
   "metadata": {},
   "outputs": [],
   "source": []
  }
 ],
 "metadata": {
  "kernelspec": {
   "display_name": "Python 3",
   "language": "python",
   "name": "python3"
  },
  "language_info": {
   "codemirror_mode": {
    "name": "ipython",
    "version": 3
   },
   "file_extension": ".py",
   "mimetype": "text/x-python",
   "name": "python",
   "nbconvert_exporter": "python",
   "pygments_lexer": "ipython3",
   "version": "3.8.8"
  }
 },
 "nbformat": 4,
 "nbformat_minor": 5
}
