{
 "cells": [
  {
   "cell_type": "markdown",
   "id": "669f0e8d-5fbf-4aea-943d-e17fa36c4a4f",
   "metadata": {},
   "source": [
    "Homework 2 Report\n",
    "==================================================\n",
    "Note that the professor verbally mentioned that it was recommended to include both the explanations of the answers to the homework as well as the source code and plots needed for the homework in one single report. Therefore, the content in this report contains the answers and explanations for the homework as well as the underlying source code needed to provide these answers.\n",
    "\n",
    "\n",
    "- The GitHub link to the Assignment Repository is :\n",
    "- https://github.com/tmasse11/ECGR_5101\n",
    "\n",
    "- The GitHub link to the Jupyter Notebook is : \n",
    "- https://github.com/tmasse11/ECGR_5101/blob/main/TerrillMassey_800670388_Homework3.ipynb\n",
    "\n",
    "\n",
    "Author: Terrill Earl Massey\n",
    "Student ID: 800670388\n"
   ]
  },
  {
   "cell_type": "markdown",
   "id": "d4eceac8-64e6-42a4-86d4-975b8f94eabb",
   "metadata": {},
   "source": [
    "The resulting sections will cover explanations, code, and plots pertaining to PROBLEM 1 of the homework. \n",
    "===========================================================================================================================\n",
    "The task is to build a logistic regression binary classifier for positive diabetes. An 80%, 20% split between training and evalutation(test) will applied to the input dataset. The data used will be derived from the diabetes.csv "
   ]
  },
  {
   "cell_type": "markdown",
   "id": "4ad80c8c-3222-4044-913b-1109b2d3acb5",
   "metadata": {},
   "source": [
    "To achieve this task,  we shall first read in and format the input explanatory values and output values.\n"
   ]
  },
  {
   "cell_type": "code",
   "execution_count": 1,
   "id": "7a9107ea-e3bf-4c94-9cb0-fff8691503f1",
   "metadata": {},
   "outputs": [
    {
     "name": "stdout",
     "output_type": "stream",
     "text": [
      "Number of Samples(M):  768\n"
     ]
    },
    {
     "data": {
      "text/html": [
       "<div>\n",
       "<style scoped>\n",
       "    .dataframe tbody tr th:only-of-type {\n",
       "        vertical-align: middle;\n",
       "    }\n",
       "\n",
       "    .dataframe tbody tr th {\n",
       "        vertical-align: top;\n",
       "    }\n",
       "\n",
       "    .dataframe thead th {\n",
       "        text-align: right;\n",
       "    }\n",
       "</style>\n",
       "<table border=\"1\" class=\"dataframe\">\n",
       "  <thead>\n",
       "    <tr style=\"text-align: right;\">\n",
       "      <th></th>\n",
       "      <th>Pregnancies</th>\n",
       "      <th>Glucose</th>\n",
       "      <th>BloodPressure</th>\n",
       "      <th>SkinThickness</th>\n",
       "      <th>Insulin</th>\n",
       "      <th>BMI</th>\n",
       "      <th>DiabetesPedigreeFunction</th>\n",
       "      <th>Age</th>\n",
       "      <th>Outcome</th>\n",
       "    </tr>\n",
       "  </thead>\n",
       "  <tbody>\n",
       "    <tr>\n",
       "      <th>0</th>\n",
       "      <td>6</td>\n",
       "      <td>148</td>\n",
       "      <td>72</td>\n",
       "      <td>35</td>\n",
       "      <td>0</td>\n",
       "      <td>33.6</td>\n",
       "      <td>0.627</td>\n",
       "      <td>50</td>\n",
       "      <td>1</td>\n",
       "    </tr>\n",
       "    <tr>\n",
       "      <th>1</th>\n",
       "      <td>1</td>\n",
       "      <td>85</td>\n",
       "      <td>66</td>\n",
       "      <td>29</td>\n",
       "      <td>0</td>\n",
       "      <td>26.6</td>\n",
       "      <td>0.351</td>\n",
       "      <td>31</td>\n",
       "      <td>0</td>\n",
       "    </tr>\n",
       "    <tr>\n",
       "      <th>2</th>\n",
       "      <td>8</td>\n",
       "      <td>183</td>\n",
       "      <td>64</td>\n",
       "      <td>0</td>\n",
       "      <td>0</td>\n",
       "      <td>23.3</td>\n",
       "      <td>0.672</td>\n",
       "      <td>32</td>\n",
       "      <td>1</td>\n",
       "    </tr>\n",
       "    <tr>\n",
       "      <th>3</th>\n",
       "      <td>1</td>\n",
       "      <td>89</td>\n",
       "      <td>66</td>\n",
       "      <td>23</td>\n",
       "      <td>94</td>\n",
       "      <td>28.1</td>\n",
       "      <td>0.167</td>\n",
       "      <td>21</td>\n",
       "      <td>0</td>\n",
       "    </tr>\n",
       "    <tr>\n",
       "      <th>4</th>\n",
       "      <td>0</td>\n",
       "      <td>137</td>\n",
       "      <td>40</td>\n",
       "      <td>35</td>\n",
       "      <td>168</td>\n",
       "      <td>43.1</td>\n",
       "      <td>2.288</td>\n",
       "      <td>33</td>\n",
       "      <td>1</td>\n",
       "    </tr>\n",
       "  </tbody>\n",
       "</table>\n",
       "</div>"
      ],
      "text/plain": [
       "   Pregnancies  Glucose  BloodPressure  SkinThickness  Insulin   BMI  \\\n",
       "0            6      148             72             35        0  33.6   \n",
       "1            1       85             66             29        0  26.6   \n",
       "2            8      183             64              0        0  23.3   \n",
       "3            1       89             66             23       94  28.1   \n",
       "4            0      137             40             35      168  43.1   \n",
       "\n",
       "   DiabetesPedigreeFunction  Age  Outcome  \n",
       "0                     0.627   50        1  \n",
       "1                     0.351   31        0  \n",
       "2                     0.672   32        1  \n",
       "3                     0.167   21        0  \n",
       "4                     2.288   33        1  "
      ]
     },
     "execution_count": 1,
     "metadata": {},
     "output_type": "execute_result"
    }
   ],
   "source": [
    "import numpy as np\n",
    "import pandas as pd\n",
    "import matplotlib.pyplot as plt\n",
    "import seaborn as sns\n",
    "from sklearn.model_selection import train_test_split\n",
    "\n",
    "diabetes_data = pd.DataFrame(pd.read_csv(r\"/home/terrill/ECGR_5102/Assignment3/diabetes.csv\"))\n",
    "M = len(diabetes_data)\n",
    "print(\"Number of Samples(M): \", M)\n",
    "diabetes_data.head()"
   ]
  },
  {
   "cell_type": "markdown",
   "id": "989f0503-bfc9-4709-bc78-462ee2eec7ad",
   "metadata": {},
   "source": [
    "The next step is to perform a 80%, 20% split of the dataset into a training and evaluation set. "
   ]
  },
  {
   "cell_type": "code",
   "execution_count": 2,
   "id": "640cef67-b42a-4fd9-92ac-6b1a7ab84254",
   "metadata": {},
   "outputs": [
    {
     "name": "stdout",
     "output_type": "stream",
     "text": [
      "Training Dataset Shape:  (614, 8)\n",
      "Validation/Test Dataset Shape:  (154, 8)\n"
     ]
    }
   ],
   "source": [
    "from sklearn.preprocessing import StandardScaler\n",
    "standard_scaler = StandardScaler()\n",
    "\n",
    "X = diabetes_data.iloc[:, :-1].values\n",
    "Y = diabetes_data.iloc[:, -1].values\n",
    "\n",
    "X_train, X_test, Y_train, Y_test = train_test_split(X,Y, test_size=0.20, train_size=0.8, random_state=42)\n",
    "\n",
    "M_training = len(X_train)\n",
    "M_test = len(X_test)\n",
    "\n",
    "print(\"Training Dataset Shape: \", X_train.shape)\n",
    "print(\"Validation/Test Dataset Shape: \", X_test.shape)\n"
   ]
  },
  {
   "cell_type": "markdown",
   "id": "ba678315-f01f-4e8e-a8be-8e751f0a69d7",
   "metadata": {},
   "source": [
    "The next step is to standardize the training and test datasets so that we will have correct feature scaling. Note that since the Y_test and Y_train data are binary outcomes, no feature scaling is requried."
   ]
  },
  {
   "cell_type": "code",
   "execution_count": 3,
   "id": "f6643d1f-f4d2-4ce5-8430-6636326f4192",
   "metadata": {},
   "outputs": [
    {
     "name": "stdout",
     "output_type": "stream",
     "text": [
      "X_Train Data Samples :\n",
      "[[-0.52639686 -1.15139792 -3.75268255 -1.32277365 -0.70120553 -4.13525578\n",
      "  -0.49073479 -1.03594038]\n",
      " [ 1.58804586 -0.27664283  0.68034485  0.23350519 -0.70120553 -0.48916881\n",
      "   2.41502991  1.48710085]\n",
      " [-0.82846011  0.56687102 -1.2658623  -0.09071957  0.01344832 -0.42452187\n",
      "   0.54916055 -0.94893896]\n",
      " [-1.13052335  1.2541786  -1.04961706 -1.32277365 -0.70120553 -1.30372015\n",
      "  -0.63929127  2.79212217]\n",
      " [ 0.68185612  0.41066475  0.57222224  1.07648956  2.48460077  1.83812075\n",
      "  -0.68682934  1.13909516]]\n"
     ]
    }
   ],
   "source": [
    "from sklearn.preprocessing import StandardScaler\n",
    "\n",
    "standard_scaler = StandardScaler() # Apply Standardization to the input training and test datasets. \n",
    "X_train = standard_scaler.fit_transform(X_train)\n",
    "X_test = standard_scaler.fit_transform(X_test)\n",
    "\n",
    "print(\"X_Train Data Samples :\")\n",
    "print(X_train[0:5, :])\n"
   ]
  },
  {
   "cell_type": "markdown",
   "id": "0ab1df4f-caab-49a3-9261-1f23266c24d7",
   "metadata": {},
   "source": [
    "The next step is to apply a logistic regression model to the training dataset. The LogisticRegression module from the sklearn.linear_model library is used."
   ]
  },
  {
   "cell_type": "code",
   "execution_count": 4,
   "id": "15c56051-db70-4af0-9e2d-7210e9f938ab",
   "metadata": {},
   "outputs": [
    {
     "data": {
      "text/plain": [
       "LogisticRegression(max_iter=1000, random_state=0)"
      ]
     },
     "execution_count": 4,
     "metadata": {},
     "output_type": "execute_result"
    }
   ],
   "source": [
    "from sklearn.linear_model import LogisticRegression\n",
    "\n",
    "logistic_regressor_classifier = LogisticRegression(random_state=0, max_iter=1000) # Logistic Regression Estimater instatiation. The default is 100 iterations to take before convergence. \n",
    "logistic_regressor_classifier.fit(X_train, Y_train)"
   ]
  },
  {
   "cell_type": "markdown",
   "id": "2eb6f542-28a0-466a-ad44-7c59403c929f",
   "metadata": {},
   "source": [
    "The next step is to predict output values based on the input validation set (\"X_test\") with the Logistic Regression Estimater."
   ]
  },
  {
   "cell_type": "code",
   "execution_count": 5,
   "id": "d06758b9-1852-424c-8528-4524a0780bef",
   "metadata": {},
   "outputs": [
    {
     "name": "stdout",
     "output_type": "stream",
     "text": [
      "Excerpt of Predicted Outcomes from Logistic Regressor\n",
      "===============================================\n",
      "[0 0 0 0 0 0 0 1 0 1 0 1 0 0 0 0 0 0 1 1]\n"
     ]
    }
   ],
   "source": [
    "Y_predictions = logistic_regressor_classifier.predict(X_test) # Construct predictions with the trained logistic regression binary classifier through using the validation input dataset.\n",
    "print(\"Excerpt of Predicted Outcomes from Logistic Regressor\")\n",
    "print(\"===============================================\")\n",
    "print(Y_predictions[0:20])"
   ]
  },
  {
   "cell_type": "markdown",
   "id": "ab983e6f-5fe6-48ce-9d60-b597aebf0521",
   "metadata": {},
   "source": [
    "<b>Answer to Question 1. </b> The following sections are considered the answer to question 1."
   ]
  },
  {
   "cell_type": "code",
   "execution_count": 6,
   "id": "599a31bd-3328-4763-afe5-82f8f4e1cfb7",
   "metadata": {},
   "outputs": [
    {
     "name": "stdout",
     "output_type": "stream",
     "text": [
      "\n",
      "Results of Logistic Regression Binary Classifier\n",
      "=====================================================\n",
      "\n",
      "\n"
     ]
    },
    {
     "data": {
      "image/png": "[encoded data removed]",
      "text/plain": [
       "<Figure size 432x288 with 2 Axes>"
      ]
     },
     "metadata": {
      "needs_background": "light"
     },
     "output_type": "display_data"
    },
    {
     "name": "stdout",
     "output_type": "stream",
     "text": [
      "\n",
      "Accuracy of Classifier: 0.7857\n",
      "Precision of Classifier: 0.7292\n",
      "Recall of Classifier: 0.6364\n",
      "=====================================================\n"
     ]
    }
   ],
   "source": [
    "from sklearn import metrics\n",
    "from sklearn.metrics import confusion_matrix\n",
    "import seaborn as sns\n",
    "def plot_logistic_regressor_results():\n",
    "    fig, ax = plt.subplots(1,1) \n",
    "    print(\"\")\n",
    "    print(\"Results of Logistic Regression Binary Classifier\")\n",
    "    print(\"=====================================================\")\n",
    "    print(\"\")\n",
    "    print(\"\")\n",
    "    # plot the confusion matrix of the binary classifier model for the output label(\"Outcome\") in the dataset.\n",
    "    conf_matrix = confusion_matrix(Y_test, Y_predictions) # Construct confusion matrix dataset.\n",
    "    possible_classes = [0, 1] # Name of Potential Classes as defined by the output label \"Outcome\". Since this is a binary classifier, the possible classes are just 0 and 1.\n",
    "    tick_marks = np.arange(len(possible_classes))\n",
    "    ax.set_xticks(tick_marks)\n",
    "    ax.set_xticklabels(possible_classes)\n",
    "    ax.set_yticks(tick_marks)\n",
    "    ax.set_yticklabels(possible_classes)\n",
    "    sns.heatmap(pd.DataFrame(conf_matrix), annot=True, fmt='g', cmap=\"Blues\", ax=ax)\n",
    "    ax.xaxis.set_label_position(\"top\")\n",
    "    ax.title.set_text(\"Confusion Matrix for Logistic Regression Model\")\n",
    "    ax.set_xlabel(\"Predicted Label\")\n",
    "    ax.set_ylabel(\"Actual Label\")\n",
    "    plt.tight_layout()\n",
    "    plt.show()\n",
    "\n",
    "    # Display the Performance Results of the Binary Classifier.\n",
    "\n",
    "    print(\"\")\n",
    "    print(\"Accuracy of Classifier: {:.4f}\".format(metrics.accuracy_score(Y_test, Y_predictions)))\n",
    "    print(\"Precision of Classifier: {:.4f}\".format(metrics.precision_score(Y_test, Y_predictions)))\n",
    "    print(\"Recall of Classifier: {:.4f}\".format(metrics.recall_score(Y_test, Y_predictions)))\n",
    "\n",
    "\n",
    "plot_logistic_regressor_results()\n",
    "print(\"=====================================================\")"
   ]
  },
  {
   "cell_type": "markdown",
   "id": "bae2c0a8-7828-4c25-bb4f-2981bb66d9ac",
   "metadata": {},
   "source": [
    "The resulting sections will cover explanations, code, and plots pertaining to PROBLEM 2 of the homework. \n",
    "===========================================================================================================================\n",
    "The task is to build a Naive Bayes binary classifier for positive diabetes. An 80%, 20% split between training and evalutation(test) will applied to the input dataset. The datasets X_train, Y_train, Y_test, and Y_train declared in Problem 1 can be re-used in the Naive Bayes binary classifier. These training sets have already been split with a 80%  and 20% split respectively. These trainnig and test/valdiation sets have also been feature scaled(through standardization) already."
   ]
  },
  {
   "cell_type": "markdown",
   "id": "13a4cb2f-f61e-40d3-8a67-f2bf02aff8fc",
   "metadata": {},
   "source": [
    "The first step is to define a Naive Bayes classifier and model it based on the X_train data and its labels, Y_train. Note that since the input data is not discrete, a gaussian naive bayes classifier must be used."
   ]
  },
  {
   "cell_type": "code",
   "execution_count": 7,
   "id": "8fa80850-ae65-42f2-a102-ef2d91a87984",
   "metadata": {},
   "outputs": [
    {
     "data": {
      "text/plain": [
       "GaussianNB()"
      ]
     },
     "execution_count": 7,
     "metadata": {},
     "output_type": "execute_result"
    }
   ],
   "source": [
    "from sklearn.naive_bayes import GaussianNB\n",
    "gaussian_naive_bayes_classifier = GaussianNB()\n",
    "gaussian_naive_bayes_classifier.fit(X_train, Y_train) # Use the training datasets to model a gaussian naive bayes classifier."
   ]
  },
  {
   "cell_type": "markdown",
   "id": "578d9ced-d9e7-4208-ad5c-cc6dc0992832",
   "metadata": {},
   "source": [
    "The next step is the use the modeled gaussian naive bayes classifier to make predictions based on the validation set(X_test)\n"
   ]
  },
  {
   "cell_type": "code",
   "execution_count": 8,
   "id": "016c6a14-e578-49eb-b454-1aa6753fab21",
   "metadata": {},
   "outputs": [
    {
     "name": "stdout",
     "output_type": "stream",
     "text": [
      "Excerpt of Predicted Outcomes from Logistic Regressor\n",
      "===============================================\n",
      "[0 0 0 0 0 0 0 0 0 1 0 1 1 0 0 0 0 0 1 0]\n"
     ]
    }
   ],
   "source": [
    "Y_predictions_naivebayes = gaussian_naive_bayes_classifier.predict(X_test)\n",
    "print(\"Excerpt of Predicted Outcomes from Logistic Regressor\")\n",
    "print(\"===============================================\")\n",
    "print(Y_predictions_naivebayes[0:20])"
   ]
  },
  {
   "cell_type": "markdown",
   "id": "0aee72a0-9085-48c7-9b32-b4822c9ad61c",
   "metadata": {},
   "source": [
    "<b>Answer to Question 2. </b> The following sections are considered the answer to question 2."
   ]
  },
  {
   "cell_type": "code",
   "execution_count": 9,
   "id": "6d99003c-bce7-49f3-9b30-bdff78c752a0",
   "metadata": {},
   "outputs": [
    {
     "name": "stdout",
     "output_type": "stream",
     "text": [
      "\n",
      "Results of Gaussian Naive Bayes Binary Classifier\n",
      "=====================================================\n",
      "\n",
      "\n"
     ]
    },
    {
     "data": {
      "image/png": "[encoded data removed]",
      "text/plain": [
       "<Figure size 432x288 with 2 Axes>"
      ]
     },
     "metadata": {
      "needs_background": "light"
     },
     "output_type": "display_data"
    },
    {
     "name": "stdout",
     "output_type": "stream",
     "text": [
      "\n",
      "Accuracy of Classifier: 0.7922\n",
      "Precision of Classifier: 0.7170\n",
      "Recall of Classifier: 0.6909\n",
      "\n",
      "\n",
      "Results of Logistic Regression Binary Classifier\n",
      "=====================================================\n",
      "\n",
      "\n"
     ]
    },
    {
     "data": {
      "image/png": "[encoded data removed]",
      "text/plain": [
       "<Figure size 432x288 with 2 Axes>"
      ]
     },
     "metadata": {
      "needs_background": "light"
     },
     "output_type": "display_data"
    },
    {
     "name": "stdout",
     "output_type": "stream",
     "text": [
      "\n",
      "Accuracy of Classifier: 0.7857\n",
      "Precision of Classifier: 0.7292\n",
      "Recall of Classifier: 0.6364\n"
     ]
    }
   ],
   "source": [
    "from sklearn import metrics\n",
    "from sklearn.metrics import confusion_matrix\n",
    "import seaborn as sns\n",
    "\n",
    "def plot_naive_bayes_results():\n",
    "    fig, ax = plt.subplots(1,1) \n",
    "    print(\"\")\n",
    "    print(\"Results of Gaussian Naive Bayes Binary Classifier\")\n",
    "    print(\"=====================================================\")\n",
    "    print(\"\")\n",
    "    print(\"\")\n",
    "    # plot the confusion matrix of the binary classifier model for the output label(\"Outcome\") in the dataset.\n",
    "    conf_matrix = confusion_matrix(Y_test, Y_predictions_naivebayes) # Construct confusion matrix dataset.\n",
    "    possible_classes = [0, 1] # Name of Potential Classes as defined by the output label \"Outcome\". Since this is a binary classifier, the possible classes are just 0 and 1.\n",
    "    tick_marks = np.arange(len(possible_classes))\n",
    "    ax.set_xticks(tick_marks)\n",
    "    ax.set_xticklabels(possible_classes)\n",
    "    ax.set_yticks(tick_marks)\n",
    "    ax.set_yticklabels(possible_classes)\n",
    "    sns.heatmap(pd.DataFrame(conf_matrix), annot=True, fmt='g', cmap=\"Blues\", ax=ax)\n",
    "    ax.xaxis.set_label_position(\"top\")\n",
    "    ax.title.set_text(\"Confusion Matrix for Gaussian Naive Bayes Classifier\")\n",
    "    ax.set_xlabel(\"Predicted Label\")\n",
    "    ax.set_ylabel(\"Actual Label\")\n",
    "    plt.tight_layout()\n",
    "    plt.show()\n",
    "\n",
    "    # Display the Performance Results of the Binary Classifier.\n",
    "\n",
    "    print(\"\")\n",
    "    print(\"Accuracy of Classifier: {:.4f}\".format(metrics.accuracy_score(Y_test, Y_predictions_naivebayes)))\n",
    "    print(\"Precision of Classifier: {:.4f}\".format(metrics.precision_score(Y_test, Y_predictions_naivebayes)))\n",
    "    print(\"Recall of Classifier: {:.4f}\".format(metrics.recall_score(Y_test, Y_predictions_naivebayes)))\n",
    "  \n",
    "plot_naive_bayes_results() # Plot Naive Bayes binary classifier results for comparison. \n",
    "print(\"\")\n",
    "plot_logistic_regressor_results() # Plot logistic regression binary classifier results for comparison. "
   ]
  },
  {
   "cell_type": "markdown",
   "id": "5a3fa69e-2ce5-4880-be63-942a322de08b",
   "metadata": {},
   "source": [
    "The performance results of the Gaussian Navie Bayes Binary Classifier is shown in the first figure in the immediate section (section 21) above. The performance results of the Logistic Regression Binary Classifier are shown in the second figure in the immediate section (section 21) above. \n",
    "\n",
    "Looking at the results of these two binary classifiers, it can be observed that the accuracy of the Logistic Regression binary classifier is slightly less than the accuracy of the Naive Bayes binary classifier. It is speculated that the logisitic regression classifier has slightly less accuracy than the Naive Bayes classifier because the training dataset has a  small sample size and high dimensionality. Typically, the Naive Bayes classifier(or any generative models) performs better than discriminative models(such as the logistic regression classifier) with high dimensional datasets with small sample numbers because generative models consider all features of the input data, whereas discriminative models does not neccessarily consider all features. Also, because of the relatively small sample size(compared to the dimensionality) of the input dataset, the logistic regression classifier may have experienced slight overfitting of the training data, thus reducing accuracy performance during valdiation with the test dataset. It is speculated that if there were more samples in the input dataset, the accuracy of the logistic regression classifier may exceed the accuracy of the Naive Bayes model. \n",
    "\n",
    "Also, it is observed from the results that the recall of the Naive Bayes classifier is also higher than the recall of the Logistic Regression classifier. This means that the Naive Bayes classifier can more effectively detect a positive outcome(a positive diabetes case) than the logistic regression classifier. It is believed that the underlying reason for this is the same as the underlying reason for the accuracy observation mentioned in the paragraph above(the naive bayes classifier has a higher recall because the input dataset has a relatively small sample size and a high dimensionality). As mentioned in the paragraph above, generative models (such as the naive bayes classifier) typically perform better than discriminative models(such as the logistic regression classifier) with input datasets with small sample sizes and high dimensionality because generative models consider all features of the data whereas discriminative models does not necessarily consider all features of the data. It is also speculated that if there were more samples within the dataset, the recall of the logistic regression classifer may exceed the recall of the naive bayes model as well. \n",
    "\n",
    "Also, based on the results in the code block immediately above, the precision of the Naive Bayes classifier was smaller than the precision of the Logistic Regression classifier. This is expected because in practice, as the recall is increased, the precision typically decreases for a classifier. Also if recall is decereased, the precision typically increases for a classifier. "
   ]
  },
  {
   "cell_type": "markdown",
   "id": "a3eb140b-26e0-4684-87d7-df47e8b06c2f",
   "metadata": {},
   "source": [
    "The resulting sections will cover explanations, code, and plots pertaining to PROBLEM 3 of the homework. \n",
    "===========================================================================================================================\n",
    "The task is to build a Logistic Regression binary classifier for positive diabetes. K-fold cross valdidation is used for training and validation of the binary classifier. There will be two seperate trainings with one training having a K value of 5, and another training having a K value of 10. "
   ]
  },
  {
   "cell_type": "markdown",
   "id": "dadc7776-48c8-4206-a52f-adc5c9b7d304",
   "metadata": {},
   "source": [
    "The first step is to define a logistic regression binary classifier that can be trained using K-fold cross validation with a specified K value."
   ]
  },
  {
   "cell_type": "code",
   "execution_count": 10,
   "id": "22ef13ff-c231-4750-af38-e337f9291c12",
   "metadata": {},
   "outputs": [],
   "source": [
    "from sklearn.linear_model import LogisticRegression\n",
    "from sklearn.preprocessing import StandardScaler\n",
    "from sklearn.model_selection import KFold\n",
    "from sklearn import metrics\n",
    "\n",
    "def logistic_regressor_with_k_fold(k_value):\n",
    "    standard_scaler = StandardScaler() # Apply Standardization to the input training and test datasets. \n",
    "    X = diabetes_data.iloc[:, :-1].values\n",
    "    Y = diabetes_data.iloc[:, -1].values\n",
    "    X = standard_scaler.fit_transform(X) # Apply Standardization to input datasets\n",
    "   \n",
    "    logistic_regressor_classifier = LogisticRegression(random_state=0, max_iter=1000) # The default is 100 iterations to take before convergence. \n",
    "    k_fold = KFold(n_splits=k_value, random_state=None) # K-Fold Object with a K value of 5.\n",
    "    accuracy_scores = []\n",
    "    precision_scores = []\n",
    "    recall_scores = []\n",
    "\n",
    "    for train_index, test_index in k_fold.split(X): # Loop that performs cross validation training across all folds. \n",
    "        x_train = X[train_index, :]  # Construct training dataset for current fold. \n",
    "        x_test  = X[test_index, :] # Construct valdiation dataset for current fold. \n",
    "        y_train = Y[train_index]  # Construct training labels for current fold. \n",
    "        y_test  = Y[test_index] # Construct validation labels for current fold. \n",
    "        \n",
    "        \n",
    "        logistic_regressor_classifier.fit(x_train, y_train) # Train the logistic regressor model to the current training fold. \n",
    "        predicted_values = logistic_regressor_classifier.predict(x_test) # Peform evalution on the current evalutation fold.\n",
    "        accuracy_scores.append(metrics.accuracy_score(y_test, predicted_values))  # Append the accuracy score for the current evaluation.\n",
    "        precision_scores.append(metrics.precision_score(y_test, predicted_values)) # Append the precision score for the current evaluation.\n",
    "        recall_scores.append(metrics.recall_score(y_test, predicted_values))  # Append the recall score for the current evaluation.\n",
    "\n",
    "    return np.asarray(accuracy_scores), np.asarray(precision_scores), np.asarray(recall_scores)\n",
    "\n",
    "    \n"
   ]
  },
  {
   "cell_type": "markdown",
   "id": "bd5bbcd3-31ef-4dcd-8ee9-35fc102650e8",
   "metadata": {},
   "source": [
    "The next step is to use the created function to perform a K-fold cross validation with a K value of 5, and then another K-fold cross validation with a K value of 10."
   ]
  },
  {
   "cell_type": "code",
   "execution_count": 11,
   "id": "58f3f9f2-f6fc-43ec-8124-366c149450c3",
   "metadata": {},
   "outputs": [],
   "source": [
    "accuracy_scores_k_of_5, precision_scores_k_of_5, recall_scores_k_of_5 = logistic_regressor_with_k_fold(k_value=5)\n",
    "accuracy_scores_k_of_10, precision_scores_k_of_10, recall_scores_k_of_10 = logistic_regressor_with_k_fold(k_value=10)"
   ]
  },
  {
   "cell_type": "markdown",
   "id": "d4eac7a2-4b45-4a51-ad17-19cb32d3dff6",
   "metadata": {},
   "source": [
    "<b>Answer to Question 3. </b> The following sections are considered the answer to question 3. The average accuracy, recall and precision of the K-fold cross validations were used to access the performance of the Logistic Regression Classifiers."
   ]
  },
  {
   "cell_type": "code",
   "execution_count": 12,
   "id": "e1f2d9a2-eee4-4c3b-986a-0f89f09ba81e",
   "metadata": {},
   "outputs": [
    {
     "name": "stdout",
     "output_type": "stream",
     "text": [
      "\n",
      "Results of Logistic Regression Binary Classifier with K-Fold Cross Validation, K=5\n",
      "========================================================================================\n",
      "\n",
      "Accuracy of Classifier for all K-folds:  [0.77272727 0.72727273 0.75974026 0.83006536 0.77124183]\n",
      "Precision Scores of Classifier for all K-folds:  [0.71111111 0.72       0.73809524 0.67567568 0.74358974]\n",
      "Recall values of Classifier for all K-folds:  [0.59259259 0.5625     0.54385965 0.64102564 0.53703704]\n",
      "\n",
      "Average Accuracy of Classifier: 0.7722\n",
      "Variance of Accuracy across K-folds:0.0011\n",
      "\n",
      "Average Precision of Classifier: 0.7177\n",
      "Variance of Precision across K-folds: 0.0006\n",
      "\n",
      "Average Recall of Classifier: 0.5754\n",
      "Variance of Recall across K-folds: 0.0014\n",
      "\n",
      "\n",
      "Results of Logistic Regression Binary Classifier with K-Fold Cross Validation, K=10\n",
      "========================================================================================\n",
      "\n",
      "Accuracy of Classifier for all K-folds:  [0.68831169 0.83116883 0.76623377 0.7012987  0.77922078 0.79220779\n",
      " 0.84415584 0.83116883 0.76315789 0.80263158]\n",
      "Precision Scores of Classifier for all K-folds:  [0.64285714 0.76470588 0.80769231 0.64       0.75       0.85\n",
      " 0.5625     0.8        0.65       0.85714286]\n",
      "Recall values of Classifier for all K-folds:  [0.5625     0.59090909 0.61764706 0.53333333 0.55555556 0.56666667\n",
      " 0.64285714 0.64       0.54166667 0.6       ]\n",
      "\n",
      "Average Accuracy of Classifier: 0.7800\n",
      "Variance of Accuracy across K-folds:0.0025\n",
      "\n",
      "Average Precision of Classifier: 0.7325\n",
      "Variance of Precision across K-folds: 0.0093\n",
      "\n",
      "Average Recall of Classifier: 0.5851\n",
      "Variance of Recall across K-folds: 0.0014\n",
      "\n"
     ]
    }
   ],
   "source": [
    "\n",
    "print(\"\")\n",
    "print(\"Results of Logistic Regression Binary Classifier with K-Fold Cross Validation, K=5\")\n",
    "print(\"========================================================================================\")\n",
    "print(\"\")\n",
    "\n",
    "\n",
    "# Display the Performance Results of the Binary Classifier.\n",
    "print(\"Accuracy of Classifier for all K-folds: \", accuracy_scores_k_of_5)\n",
    "print(\"Precision Scores of Classifier for all K-folds: \", precision_scores_k_of_5)\n",
    "print(\"Recall values of Classifier for all K-folds: \", recall_scores_k_of_5)\n",
    "print(\"\")\n",
    "print(\"Average Accuracy of Classifier: {:.4f}\".format(np.average(accuracy_scores_k_of_5)))\n",
    "print(\"Variance of Accuracy across K-folds:{:.4f}\".format(np.var(accuracy_scores_k_of_5)))\n",
    "print(\"\")\n",
    "print(\"Average Precision of Classifier: {:.4f}\".format(np.average(precision_scores_k_of_5)))\n",
    "print(\"Variance of Precision across K-folds: {:.4f}\".format(np.var(precision_scores_k_of_5)))\n",
    "print(\"\")\n",
    "print(\"Average Recall of Classifier: {:.4f}\".format(np.average(recall_scores_k_of_5)))\n",
    "print(\"Variance of Recall across K-folds: {:.4f}\".format(np.var(recall_scores_k_of_5)))\n",
    "print(\"\")\n",
    "\n",
    "\n",
    "print(\"\")\n",
    "print(\"Results of Logistic Regression Binary Classifier with K-Fold Cross Validation, K=10\")\n",
    "print(\"========================================================================================\")\n",
    "print(\"\")\n",
    "\n",
    "\n",
    "# Display the Performance Results of the Binary Classifier.\n",
    "print(\"Accuracy of Classifier for all K-folds: \", accuracy_scores_k_of_10)\n",
    "print(\"Precision Scores of Classifier for all K-folds: \", precision_scores_k_of_10)\n",
    "print(\"Recall values of Classifier for all K-folds: \", recall_scores_k_of_10)\n",
    "print(\"\")\n",
    "print(\"Average Accuracy of Classifier: {:.4f}\".format(np.average(accuracy_scores_k_of_10)))\n",
    "print(\"Variance of Accuracy across K-folds:{:.4f}\".format(np.var(accuracy_scores_k_of_10)))\n",
    "print(\"\")\n",
    "print(\"Average Precision of Classifier: {:.4f}\".format(np.average(precision_scores_k_of_10)))\n",
    "print(\"Variance of Precision across K-folds: {:.4f}\".format(np.var(precision_scores_k_of_10)))\n",
    "print(\"\")\n",
    "print(\"Average Recall of Classifier: {:.4f}\".format(np.average(recall_scores_k_of_10)))\n",
    "print(\"Variance of Recall across K-folds: {:.4f}\".format(np.var(recall_scores_k_of_10)))\n",
    "print(\"\")\n"
   ]
  },
  {
   "cell_type": "markdown",
   "id": "cecb935e-76a5-4c2d-b5b3-a75854c7f139",
   "metadata": {},
   "source": [
    "As illustrated in the code section immediately above(section 24), average recall, accuracy and precision were calculated for the K-fold cross validation training with a K value of 5 and 10. \n",
    "\n",
    "It was shown that the average accuracy and recall of the logistic regression classifer was higher with a K value of 10  than with a K value of 5 used during the K-fold cross validation training. This means that the logistic regression classifier that was trained with a K value of 10 was able to more effectively detect the condition(a positive outcome case for diabetes) when compared to the logistic regression classifier that was trained with a K value of 5. It is speculated that this phenomenon occured because increasing the K value within K-fold cross validation typically leads to a less biased logistic regression model which may reduce  the possibility of overfitting during training. K-fold cross validation is typically used to reduce or avoid overfitting within a model. If overfitting is avoided, the accuracy and recall of the model may improve during testing/validation.\n",
    "\n",
    "The accuracy and recall of the Logistic Regression classifier in Question 1 (explained in results section of Question 1 in section 6) are slightly higher than the accuracy and recall of the logistic regression classifiers with K-fold cross validation. Looking at this comparison, it is now speculated that the K-fold cross validation approaches may have introduced large variances within the training data causing slight overfitting. Due to possible slight overfitting, the logistic regression models with K-fold cross validation may have decreased performance(recall and accuracy) in respect to the original logistic regression model defined in Problem 1.\n",
    "\n",
    "It was also noticed that the precision of the logistic regression classifier  using a K-Fold cross-validation with K=10 had higher precision value than the logistic regression classifier in Problem 1. Typically for classifiers, as the precision is increased, an decrease in recall may be observed. However this is not always the case, as illustrated with the precision value of the logistic regression classifier using K-fold cross validation with a K-value of 5. This precision value is actually slightly less than the precision of the logistic regression classifier in problem 1. However since these two values are close, the slight difference may be attributed to statistical noise. "
   ]
  },
  {
   "cell_type": "markdown",
   "id": "98bd35c6-b2cb-4a35-91f6-ea4ebc7f5f2c",
   "metadata": {},
   "source": [
    "The resulting sections will cover explanations, code, and plots pertaining to PROBLEM 4 of the homework. \n",
    "===========================================================================================================================\n",
    "The task is to build a Naive Bayes binary classifier for positive diabetes. K-fold cross valdidation is used for training and validation of the binary classifier. There will be two seperate trainings with one training having a K value of 5, and another training having a K value of 10. "
   ]
  },
  {
   "cell_type": "markdown",
   "id": "6f34ab27-f941-4cca-8e4e-c5aa96962278",
   "metadata": {},
   "source": [
    "The first step is to define a naive bayes binary classifier that can be trained using K-fold cross validation with a specified K value."
   ]
  },
  {
   "cell_type": "code",
   "execution_count": 13,
   "id": "ea04bce3-8912-461d-90b4-0cf3bcd28df0",
   "metadata": {},
   "outputs": [],
   "source": [
    "from sklearn.naive_bayes import GaussianNB\n",
    "from sklearn.preprocessing import StandardScaler\n",
    "from sklearn.model_selection import KFold\n",
    "from sklearn import metrics\n",
    "\n",
    "def naive_bayes_regressor_with_k_fold(k_value):\n",
    "    standard_scaler = StandardScaler() # Apply Standardization to the input training and test datasets. \n",
    "    X = diabetes_data.iloc[:, :-1].values\n",
    "    Y = diabetes_data.iloc[:, -1].values\n",
    "    X = standard_scaler.fit_transform(X) # Apply Standardization to input data.\n",
    "    \n",
    "    gaussian_naive_bayes_classifier = GaussianNB() # Define Gaussian Naive Bayes Classifier Estimator\n",
    "    \n",
    "    k_fold = KFold(n_splits=k_value, random_state=None) # K-Fold Object with a K value of 5.\n",
    "    accuracy_scores = []\n",
    "    precision_scores = []\n",
    "    recall_scores = []\n",
    "\n",
    "    for train_index, test_index in k_fold.split(X): # Loop that performs cross validation training across all folds. \n",
    "        x_train = X[train_index, :]  # Construct training dataset for current fold. \n",
    "        x_test  = X[test_index, :] # Construct valdiation dataset for current fold. \n",
    "        y_train = Y[train_index]  # Construct training labels for current fold. \n",
    "        y_test  = Y[test_index] # Construct validation labels for current fold. \n",
    "        \n",
    "        \n",
    "        gaussian_naive_bayes_classifier.fit(x_train, y_train) # Use the training datasets to model a gaussian naive bayes classifier. \n",
    "        predicted_values = gaussian_naive_bayes_classifier.predict(x_test) # Peform evalution on the current evalutation fold.\n",
    "        accuracy_scores.append(metrics.accuracy_score(y_test.ravel(), predicted_values))  # Append the accuracy score for the current evaluation.\n",
    "        precision_scores.append(metrics.precision_score(y_test.ravel(), predicted_values)) # Append the precision score for the current evaluation.\n",
    "        recall_scores.append(metrics.recall_score(y_test.ravel(), predicted_values))  # Append the recall score for the current evaluation.\n",
    "\n",
    "    return np.asarray(accuracy_scores), np.asarray(precision_scores), np.asarray(recall_scores)\n"
   ]
  },
  {
   "cell_type": "markdown",
   "id": "d5ac988c-ecaa-4193-9455-6ea8ea73df47",
   "metadata": {},
   "source": [
    "The next step is to use the created function to perform a K-fold cross validation with a K value of 5, and then another K-fold cross validation with a K value of 10."
   ]
  },
  {
   "cell_type": "code",
   "execution_count": 14,
   "id": "c704bd90-74b1-4e14-b309-43b565686ff1",
   "metadata": {},
   "outputs": [],
   "source": [
    "bayes_accuracy_scores_k_of_5, bayes_precision_scores_k_of_5, bayes_recall_scores_k_of_5 = naive_bayes_regressor_with_k_fold(k_value=5)\n",
    "bayes_accuracy_scores_k_of_10, bayes_precision_scores_k_of_10, bayes_recall_scores_k_of_10 = naive_bayes_regressor_with_k_fold(k_value=10)"
   ]
  },
  {
   "cell_type": "markdown",
   "id": "09024b2b-7081-419c-9209-845ad90d214e",
   "metadata": {},
   "source": [
    "<b>Answer to Question 4. </b> The following sections are considered the answer to question 4."
   ]
  },
  {
   "cell_type": "code",
   "execution_count": 15,
   "id": "62ffe406-3a3e-4973-988c-34de1f307b2d",
   "metadata": {},
   "outputs": [
    {
     "name": "stdout",
     "output_type": "stream",
     "text": [
      "\n",
      "Results of Gaussian Naive Bayes Binary Classifier with K-Fold Cross Validation, K=5\n",
      "========================================================================================\n",
      "\n",
      "Accuracy of Classifier for all K-folds:  [0.75324675 0.71428571 0.74675325 0.80392157 0.74509804]\n",
      "Precision Scores of Classifier for all K-folds:  [0.66666667 0.69230769 0.6875     0.59574468 0.66666667]\n",
      "Recall values of Classifier for all K-folds:  [0.59259259 0.5625     0.57894737 0.71794872 0.55555556]\n",
      "\n",
      "Average Accuracy of Classifier: 0.7527\n",
      "Variance of Accuracy across K-folds:0.0008\n",
      "\n",
      "Average Precision of Classifier: 0.6618\n",
      "Variance of Precision across K-folds: 0.0012\n",
      "\n",
      "Average Recall of Classifier: 0.6015\n",
      "Variance of Recall across K-folds: 0.0036\n",
      "\n",
      "\n",
      "Results of Gaussian Naive Bayes Binary Classifier with K-Fold Cross Validation, K=10\n",
      "========================================================================================\n",
      "\n",
      "Accuracy of Classifier for all K-folds:  [0.67532468 0.80519481 0.75324675 0.71428571 0.72727273 0.76623377\n",
      " 0.80519481 0.81818182 0.73684211 0.75      ]\n",
      "Precision Scores of Classifier for all K-folds:  [0.61290323 0.68421053 0.8        0.65384615 0.61538462 0.77272727\n",
      " 0.47368421 0.7037037  0.59090909 0.73913043]\n",
      "Recall values of Classifier for all K-folds:  [0.59375    0.59090909 0.58823529 0.56666667 0.59259259 0.56666667\n",
      " 0.64285714 0.76       0.54166667 0.56666667]\n",
      "\n",
      "Average Accuracy of Classifier: 0.7552\n",
      "Variance of Accuracy across K-folds:0.0018\n",
      "\n",
      "Average Precision of Classifier: 0.6646\n",
      "Variance of Precision across K-folds: 0.0085\n",
      "\n",
      "Average Recall of Classifier: 0.6010\n",
      "Variance of Recall across K-folds: 0.0034\n",
      "\n"
     ]
    }
   ],
   "source": [
    "print(\"\")\n",
    "print(\"Results of Gaussian Naive Bayes Binary Classifier with K-Fold Cross Validation, K=5\")\n",
    "print(\"========================================================================================\")\n",
    "print(\"\")\n",
    "\n",
    "\n",
    "# Display the Performance Results of the Binary Classifier.\n",
    "print(\"Accuracy of Classifier for all K-folds: \", bayes_accuracy_scores_k_of_5)\n",
    "print(\"Precision Scores of Classifier for all K-folds: \", bayes_precision_scores_k_of_5)\n",
    "print(\"Recall values of Classifier for all K-folds: \", bayes_recall_scores_k_of_5)\n",
    "print(\"\")\n",
    "print(\"Average Accuracy of Classifier: {:.4f}\".format(np.average(bayes_accuracy_scores_k_of_5)))\n",
    "print(\"Variance of Accuracy across K-folds:{:.4f}\".format(np.var(bayes_accuracy_scores_k_of_5)))\n",
    "print(\"\")\n",
    "print(\"Average Precision of Classifier: {:.4f}\".format(np.average(bayes_precision_scores_k_of_5)))\n",
    "print(\"Variance of Precision across K-folds: {:.4f}\".format(np.var(bayes_precision_scores_k_of_5)))\n",
    "print(\"\")\n",
    "print(\"Average Recall of Classifier: {:.4f}\".format(np.average(bayes_recall_scores_k_of_5)))\n",
    "print(\"Variance of Recall across K-folds: {:.4f}\".format(np.var(bayes_recall_scores_k_of_5)))\n",
    "print(\"\")\n",
    "\n",
    "\n",
    "print(\"\")\n",
    "print(\"Results of Gaussian Naive Bayes Binary Classifier with K-Fold Cross Validation, K=10\")\n",
    "print(\"========================================================================================\")\n",
    "print(\"\")\n",
    "\n",
    "\n",
    "# Display the Performance Results of the Binary Classifier.\n",
    "print(\"Accuracy of Classifier for all K-folds: \", bayes_accuracy_scores_k_of_10)\n",
    "print(\"Precision Scores of Classifier for all K-folds: \", bayes_precision_scores_k_of_10)\n",
    "print(\"Recall values of Classifier for all K-folds: \", bayes_recall_scores_k_of_10)\n",
    "print(\"\")\n",
    "print(\"Average Accuracy of Classifier: {:.4f}\".format(np.average(bayes_accuracy_scores_k_of_10)))\n",
    "print(\"Variance of Accuracy across K-folds:{:.4f}\".format(np.var(bayes_accuracy_scores_k_of_10)))\n",
    "print(\"\")\n",
    "print(\"Average Precision of Classifier: {:.4f}\".format(np.average(bayes_precision_scores_k_of_10)))\n",
    "print(\"Variance of Precision across K-folds: {:.4f}\".format(np.var(bayes_precision_scores_k_of_10)))\n",
    "print(\"\")\n",
    "print(\"Average Recall of Classifier: {:.4f}\".format(np.average(bayes_recall_scores_k_of_10)))\n",
    "print(\"Variance of Recall across K-folds: {:.4f}\".format(np.var(bayes_recall_scores_k_of_10)))\n",
    "print(\"\")\n"
   ]
  },
  {
   "cell_type": "markdown",
   "id": "81671723-e194-4ce7-8396-a1337952a1bb",
   "metadata": {},
   "source": [
    "The immediate code section above showcases the average accuracy, recall, and precision of the Naive Bayes classifier that has used K-fold cross validation with a K value of 5 and a K value of 10. However, it does not make sense to use K-fold cross validation on a generative model(such as a Naive Bayes classifier) because unlike discriminative models, generative models use class-conditional probability density functions of the input dataset  to directly make a prediction. Therefore, generative models do not use a cost function or gradient descent to \"train\" over iterations and achieve a fitted model for prediction, generative models make predictions directly from the underlying class-conditional probabilities derived from the input data currently presented to the model.\n",
    "\n",
    "Because the K-fold cross validation is designed to train a model over K-folds, a generative model will make a prediction based only on the data in the current K-fold, as it cannot learn anything from the previous K-fold. Essentially, the K-fold cross validation technique applied in this case is the equivalent to constructing multiple naive bayes classifiers with each classifier modeled to a certain K-fold. "
   ]
  },
  {
   "cell_type": "code",
   "execution_count": null,
   "id": "971a14ce-23b7-4c64-aabc-ab3d24e5ee9b",
   "metadata": {},
   "outputs": [],
   "source": []
  }
 ],
 "metadata": {
  "kernelspec": {
   "display_name": "Python 3",
   "language": "python",
   "name": "python3"
  },
  "language_info": {
   "codemirror_mode": {
    "name": "ipython",
    "version": 3
   },
   "file_extension": ".py",
   "mimetype": "text/x-python",
   "name": "python",
   "nbconvert_exporter": "python",
   "pygments_lexer": "ipython3",
   "version": "3.8.8"
  }
 },
 "nbformat": 4,
 "nbformat_minor": 5
}
