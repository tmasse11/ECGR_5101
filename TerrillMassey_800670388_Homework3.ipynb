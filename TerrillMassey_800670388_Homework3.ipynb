{
 "cells": [
  {
   "cell_type": "markdown",
   "id": "b2ddabc7-7584-469d-ad7b-7eced2fc4907",
   "metadata": {},
   "source": [
    "Homework 3 Report\n",
    "==================================================\n",
    "Note that the professor verbally mentioned that it was recommended to include both the explanations of the answers to the homework as well as the source code and plots needed for the homework in one single report. Therefore, the content in this report contains the answers and explanations for the homework as well as the underlying source code needed to provide these answers.\n",
    "\n",
    "\n",
    "- The GitHub link to the Assignment Repository is :\n",
    "- https://github.com/tmasse11/ECGR_5101\n",
    "\n",
    "- The GitHub link to the Jupyter Notebook is : \n",
    "- https://github.com/tmasse11/ECGR_5101/blob/main/TerrillMassey_800670388_Homework3.ipynb\n",
    "\n",
    "\n",
    "Author: Terrill Earl Massey\n",
    "Student ID: 800670388"
   ]
  },
  {
   "cell_type": "markdown",
   "id": "d1a5c0fd-f657-4c3c-9902-a303b91a440e",
   "metadata": {},
   "source": [
    "The resulting sections will cover explanations, code, and plots pertaining to PROBLEM 1 of the homework. \n",
    "===========================================================================================================================\n",
    "The task is to use the a cancer patient dataset and build a logistic regression model to classiy the type of cancer (Malignant vs. benign).  This will be done for all 30 input features. Afterwards we shall determine if we can train a logistic regression over these number of features. \n",
    " \n"
   ]
  },
  {
   "cell_type": "markdown",
   "id": "683c8018-18c7-423e-ba02-2e523bca4b34",
   "metadata": {},
   "source": [
    "The First step is to load the cancer dataset."
   ]
  },
  {
   "cell_type": "code",
   "execution_count": 1,
   "id": "54ed7914-a305-48af-96ae-7128c2661e49",
   "metadata": {},
   "outputs": [],
   "source": [
    "import numpy as np\n",
    "import matplotlib.pyplot as plt\n",
    "import pandas as pd\n",
    "from sklearn.datasets import load_breast_cancer\n",
    "from sklearn.decomposition import PCA\n",
    "from sklearn.discriminant_analysis import LinearDiscriminantAnalysis\n",
    "from sklearn.model_selection import train_test_split\n",
    "from sklearn.preprocessing import MinMaxScaler, StandardScaler"
   ]
  },
  {
   "cell_type": "code",
   "execution_count": 2,
   "id": "07f460eb-7c5d-4bc1-854e-67e77fe9e888",
   "metadata": {},
   "outputs": [
    {
     "data": {
      "text/html": [
       "<div>\n",
       "<style scoped>\n",
       "    .dataframe tbody tr th:only-of-type {\n",
       "        vertical-align: middle;\n",
       "    }\n",
       "\n",
       "    .dataframe tbody tr th {\n",
       "        vertical-align: top;\n",
       "    }\n",
       "\n",
       "    .dataframe thead th {\n",
       "        text-align: right;\n",
       "    }\n",
       "</style>\n",
       "<table border=\"1\" class=\"dataframe\">\n",
       "  <thead>\n",
       "    <tr style=\"text-align: right;\">\n",
       "      <th></th>\n",
       "      <th>mean radius</th>\n",
       "      <th>mean texture</th>\n",
       "      <th>mean perimeter</th>\n",
       "      <th>mean area</th>\n",
       "      <th>mean smoothness</th>\n",
       "      <th>mean compactness</th>\n",
       "      <th>mean concavity</th>\n",
       "      <th>mean concave points</th>\n",
       "      <th>mean symmetry</th>\n",
       "      <th>mean fractal dimension</th>\n",
       "      <th>...</th>\n",
       "      <th>worst texture</th>\n",
       "      <th>worst perimeter</th>\n",
       "      <th>worst area</th>\n",
       "      <th>worst smoothness</th>\n",
       "      <th>worst compactness</th>\n",
       "      <th>worst concavity</th>\n",
       "      <th>worst concave points</th>\n",
       "      <th>worst symmetry</th>\n",
       "      <th>worst fractal dimension</th>\n",
       "      <th>label</th>\n",
       "    </tr>\n",
       "  </thead>\n",
       "  <tbody>\n",
       "    <tr>\n",
       "      <th>0</th>\n",
       "      <td>17.99</td>\n",
       "      <td>10.38</td>\n",
       "      <td>122.80</td>\n",
       "      <td>1001.0</td>\n",
       "      <td>0.11840</td>\n",
       "      <td>0.27760</td>\n",
       "      <td>0.3001</td>\n",
       "      <td>0.14710</td>\n",
       "      <td>0.2419</td>\n",
       "      <td>0.07871</td>\n",
       "      <td>...</td>\n",
       "      <td>17.33</td>\n",
       "      <td>184.60</td>\n",
       "      <td>2019.0</td>\n",
       "      <td>0.1622</td>\n",
       "      <td>0.6656</td>\n",
       "      <td>0.7119</td>\n",
       "      <td>0.2654</td>\n",
       "      <td>0.4601</td>\n",
       "      <td>0.11890</td>\n",
       "      <td>0.0</td>\n",
       "    </tr>\n",
       "    <tr>\n",
       "      <th>1</th>\n",
       "      <td>20.57</td>\n",
       "      <td>17.77</td>\n",
       "      <td>132.90</td>\n",
       "      <td>1326.0</td>\n",
       "      <td>0.08474</td>\n",
       "      <td>0.07864</td>\n",
       "      <td>0.0869</td>\n",
       "      <td>0.07017</td>\n",
       "      <td>0.1812</td>\n",
       "      <td>0.05667</td>\n",
       "      <td>...</td>\n",
       "      <td>23.41</td>\n",
       "      <td>158.80</td>\n",
       "      <td>1956.0</td>\n",
       "      <td>0.1238</td>\n",
       "      <td>0.1866</td>\n",
       "      <td>0.2416</td>\n",
       "      <td>0.1860</td>\n",
       "      <td>0.2750</td>\n",
       "      <td>0.08902</td>\n",
       "      <td>0.0</td>\n",
       "    </tr>\n",
       "    <tr>\n",
       "      <th>2</th>\n",
       "      <td>19.69</td>\n",
       "      <td>21.25</td>\n",
       "      <td>130.00</td>\n",
       "      <td>1203.0</td>\n",
       "      <td>0.10960</td>\n",
       "      <td>0.15990</td>\n",
       "      <td>0.1974</td>\n",
       "      <td>0.12790</td>\n",
       "      <td>0.2069</td>\n",
       "      <td>0.05999</td>\n",
       "      <td>...</td>\n",
       "      <td>25.53</td>\n",
       "      <td>152.50</td>\n",
       "      <td>1709.0</td>\n",
       "      <td>0.1444</td>\n",
       "      <td>0.4245</td>\n",
       "      <td>0.4504</td>\n",
       "      <td>0.2430</td>\n",
       "      <td>0.3613</td>\n",
       "      <td>0.08758</td>\n",
       "      <td>0.0</td>\n",
       "    </tr>\n",
       "    <tr>\n",
       "      <th>3</th>\n",
       "      <td>11.42</td>\n",
       "      <td>20.38</td>\n",
       "      <td>77.58</td>\n",
       "      <td>386.1</td>\n",
       "      <td>0.14250</td>\n",
       "      <td>0.28390</td>\n",
       "      <td>0.2414</td>\n",
       "      <td>0.10520</td>\n",
       "      <td>0.2597</td>\n",
       "      <td>0.09744</td>\n",
       "      <td>...</td>\n",
       "      <td>26.50</td>\n",
       "      <td>98.87</td>\n",
       "      <td>567.7</td>\n",
       "      <td>0.2098</td>\n",
       "      <td>0.8663</td>\n",
       "      <td>0.6869</td>\n",
       "      <td>0.2575</td>\n",
       "      <td>0.6638</td>\n",
       "      <td>0.17300</td>\n",
       "      <td>0.0</td>\n",
       "    </tr>\n",
       "    <tr>\n",
       "      <th>4</th>\n",
       "      <td>20.29</td>\n",
       "      <td>14.34</td>\n",
       "      <td>135.10</td>\n",
       "      <td>1297.0</td>\n",
       "      <td>0.10030</td>\n",
       "      <td>0.13280</td>\n",
       "      <td>0.1980</td>\n",
       "      <td>0.10430</td>\n",
       "      <td>0.1809</td>\n",
       "      <td>0.05883</td>\n",
       "      <td>...</td>\n",
       "      <td>16.67</td>\n",
       "      <td>152.20</td>\n",
       "      <td>1575.0</td>\n",
       "      <td>0.1374</td>\n",
       "      <td>0.2050</td>\n",
       "      <td>0.4000</td>\n",
       "      <td>0.1625</td>\n",
       "      <td>0.2364</td>\n",
       "      <td>0.07678</td>\n",
       "      <td>0.0</td>\n",
       "    </tr>\n",
       "  </tbody>\n",
       "</table>\n",
       "<p>5 rows × 31 columns</p>\n",
       "</div>"
      ],
      "text/plain": [
       "   mean radius  mean texture  mean perimeter  mean area  mean smoothness  \\\n",
       "0        17.99         10.38          122.80     1001.0          0.11840   \n",
       "1        20.57         17.77          132.90     1326.0          0.08474   \n",
       "2        19.69         21.25          130.00     1203.0          0.10960   \n",
       "3        11.42         20.38           77.58      386.1          0.14250   \n",
       "4        20.29         14.34          135.10     1297.0          0.10030   \n",
       "\n",
       "   mean compactness  mean concavity  mean concave points  mean symmetry  \\\n",
       "0           0.27760          0.3001              0.14710         0.2419   \n",
       "1           0.07864          0.0869              0.07017         0.1812   \n",
       "2           0.15990          0.1974              0.12790         0.2069   \n",
       "3           0.28390          0.2414              0.10520         0.2597   \n",
       "4           0.13280          0.1980              0.10430         0.1809   \n",
       "\n",
       "   mean fractal dimension  ...  worst texture  worst perimeter  worst area  \\\n",
       "0                 0.07871  ...          17.33           184.60      2019.0   \n",
       "1                 0.05667  ...          23.41           158.80      1956.0   \n",
       "2                 0.05999  ...          25.53           152.50      1709.0   \n",
       "3                 0.09744  ...          26.50            98.87       567.7   \n",
       "4                 0.05883  ...          16.67           152.20      1575.0   \n",
       "\n",
       "   worst smoothness  worst compactness  worst concavity  worst concave points  \\\n",
       "0            0.1622             0.6656           0.7119                0.2654   \n",
       "1            0.1238             0.1866           0.2416                0.1860   \n",
       "2            0.1444             0.4245           0.4504                0.2430   \n",
       "3            0.2098             0.8663           0.6869                0.2575   \n",
       "4            0.1374             0.2050           0.4000                0.1625   \n",
       "\n",
       "   worst symmetry  worst fractal dimension  label  \n",
       "0          0.4601                  0.11890    0.0  \n",
       "1          0.2750                  0.08902    0.0  \n",
       "2          0.3613                  0.08758    0.0  \n",
       "3          0.6638                  0.17300    0.0  \n",
       "4          0.2364                  0.07678    0.0  \n",
       "\n",
       "[5 rows x 31 columns]"
      ]
     },
     "execution_count": 2,
     "metadata": {},
     "output_type": "execute_result"
    }
   ],
   "source": [
    "breast_cancer = load_breast_cancer()\n",
    "input_data = breast_cancer.data\n",
    "labels = np.reshape(breast_cancer.target, (569,1))\n",
    "\n",
    "breast_data = np.concatenate([input_data, labels], axis=1)\n",
    "breast_data_df = pd.DataFrame(breast_data)\n",
    "\n",
    "features = breast_cancer.feature_names\n",
    "features_labels = np.append(features, 'label')\n",
    "breast_data_df.columns = features_labels\n",
    "breast_data_df.head()\n",
    "\n"
   ]
  },
  {
   "cell_type": "markdown",
   "id": "5429bfe9-f9be-4237-a296-1b53a4e2b244",
   "metadata": {},
   "source": [
    "The next step is to create a custom series of functions that perform gradient descent on a logistic regression. This is necessary so that loss and classification accuracy history can be ploted over iterations. The subsequent code block(6) contains the functions necessary to perform the gradient descent for logistic regression. The reference found at the link https://ml-cheatsheet.readthedocs.io/en/latest/logistic_regression.html assisted in constructing the gradient desecent for logistic regression."
   ]
  },
  {
   "cell_type": "code",
   "execution_count": 3,
   "id": "8b35baf3-5480-4cae-9241-7696d7b704b8",
   "metadata": {},
   "outputs": [],
   "source": [
    "def sigmoid(input_data):\n",
    "    \"\"\"\n",
    "    Sigmoid activation function. This function is the equivalent of  H(X) = 1 / (transpose(theta and X)\n",
    "\n",
    "    Inputs:\n",
    "        input_data : theta_weights transposed with input features.\n",
    "\n",
    "    Outputs:\n",
    "        sigmoid of input_data\n",
    "    \"\"\"\n",
    "    return 1.0 / (1 + np.exp(-input_data))\n",
    "\n",
    "\n",
    "def sigmoid_prediction(input_features, thetas):\n",
    "    \"\"\"\n",
    "    This is the H_theta(X) function.\n",
    "    Inputs:\n",
    "    input_features : Multi-dimensional array of input features. Array shape: [Number of Features X Number of Observations]\n",
    "    thetas: 1xN array of training theta weights. N should be equal to Number of features +  1.\n",
    "\n",
    "    Outputs:\n",
    "    predictions: 1D array of propbabilities of observation belonging to the class (Berign in this case).\n",
    "\n",
    "    \"\"\"\n",
    "    predictions = np.dot(input_features, thetas)\n",
    "    return sigmoid(predictions)\n",
    "\n",
    "\n",
    "def cost_function(input_features, labels, theta_weights):\n",
    "    \"\"\"\n",
    "    Computes the cost of all training samples for logistic regression.\n",
    "\n",
    "    Inputs:\n",
    "    input_features: Multi-dimensional array of input features. Array shape: [Number of features X Number of Observations]\n",
    "    labels: 1 x N array of labels(or y values) corresponding to the input_features array.\n",
    "    theta_weights: 1xN array of training theta weights. N should be equal to the number of features + 1.\n",
    "    \"\"\"\n",
    "    M = len(labels)\n",
    "\n",
    "    cost = -(1 / M) * np.sum(labels * np.log(sigmoid_prediction(input_features, theta_weights)) + (1 - labels) * np.log(\n",
    "        1 - sigmoid_prediction(input_features, theta_weights)))\n",
    "    return cost\n",
    "\n",
    "\n",
    "def calc_accuracy(predicted_labels, actual_labels):\n",
    "    \"\"\"\n",
    "    Function that calculates the accuracy of the model.\n",
    "    Accuracy = correct predictions / total predictions\n",
    "    \"\"\"\n",
    "    correct_predictions = 0\n",
    "    for indx in range(0, len(actual_labels)):\n",
    "        if predicted_labels[indx] == actual_labels[indx]:\n",
    "            correct_predictions += 1\n",
    "\n",
    "    accuracy = correct_predictions / len(actual_labels)\n",
    "\n",
    "    return accuracy\n",
    "\n",
    "\n",
    "def gradient_descent(training_data, training_labels, validation_data, validation_labels, theta_weights, alpha, epochs):\n",
    "    \"\"\"\n",
    "    Computes the gradient descent of the cost function for theta values.\n",
    "\n",
    "    \"\"\"\n",
    "\n",
    "    M = len(labels)\n",
    "    training_loss_history = np.zeros(epochs)\n",
    "    validation_loss_history = np.zeros(epochs)\n",
    "    training_accuracy_history = np.zeros(epochs)\n",
    "    validiation_accuracy_history = np.zeros(epochs)\n",
    "\n",
    "    for i in range(0, epochs):\n",
    "        # Perform gradient descent. Recall Gradient Descent for logistic regression is similar to the gradient descent for linear regression, except that h(x) is the sigmoid function.\n",
    "        h_of_x = sigmoid_prediction(training_data, theta_weights)  # H(x) sigmoid function.\n",
    "        theta_weights = theta_weights - (alpha / M) * training_data.transpose().dot(\n",
    "            h_of_x - training_labels)  # Update of theta values.\n",
    "\n",
    "        training_predictions = np.round(\n",
    "            sigmoid_prediction(training_data, theta_weights), decimals=0)  # threshold for a positive classification is 0.50\n",
    "        validation_predictions = np.round(\n",
    "            sigmoid_prediction(validation_data, theta_weights), decimals=0)  # Threshold for a positive classification is 0.50\n",
    "\n",
    "        training_loss_history[i] = cost_function(training_data, training_labels,\n",
    "                                                 theta_weights)  # Compute cost on trianing data for current theta values.\n",
    "        training_accuracy_history[i] = calc_accuracy(training_predictions, training_labels)\n",
    "        validiation_accuracy_history[i] = calc_accuracy(validation_predictions, validation_labels)\n",
    "        validation_loss_history[i] = cost_function(validation_data, validation_labels,\n",
    "                                                   theta_weights)  # Compute cost on validation data for current theta values.\n",
    "\n",
    "    return theta_weights, training_loss_history, validation_loss_history, training_accuracy_history, validiation_accuracy_history\n"
   ]
  },
  {
   "cell_type": "markdown",
   "id": "7eb66c6f-a6fe-48ec-89df-1b9ca56b630f",
   "metadata": {},
   "source": [
    "The next step is to perform gradient descent on all 30 input features. Input normalization was performed on the input data. Also an 80%, 20% split was used for training and validation data respectively.  "
   ]
  },
  {
   "cell_type": "code",
   "execution_count": 4,
   "id": "cbd29351-f2fc-43ed-9c36-00a920ddf675",
   "metadata": {},
   "outputs": [
    {
     "name": "stdout",
     "output_type": "stream",
     "text": [
      "Input Data Shape:  (569, 30)\n",
      "Data Label Shape:  (569,)\n"
     ]
    }
   ],
   "source": [
    "input_data = breast_data_df.values[:, :-1]\n",
    "labels = breast_data_df.values[:, -1]\n",
    "\n",
    "print(\"Input Data Shape: \", input_data.shape)\n",
    "print(\"Data Label Shape: \", labels.shape)\n",
    "\n",
    "# Perform min max scaler on input data.\n",
    "scaler = MinMaxScaler()\n",
    "input_data = scaler.fit_transform(input_data)\n",
    "\n",
    "# split training and validation data based on a 80%, 20% split.\n",
    "np.random.seed(0)\n",
    "training_data, validation_data, training_labels, validation_labels = train_test_split(input_data, labels, train_size=0.8, test_size=0.2, random_state=np.random)\n",
    "\n",
    "M_training = len(training_labels)\n",
    "M_validation = len(validation_labels)\n",
    "\n",
    "#Perform gradient descent on training data.\n",
    "theta = np.zeros(31) # Initialize Theta.\n",
    "x0 = np.zeros((M_training, 1))\n",
    "training_data = np.hstack((x0, training_data))\n",
    "x0_val = np.zeros((M_validation, 1))\n",
    "validation_data = np.hstack((x0_val, validation_data))\n",
    "alpha = 0.10\n",
    "epochs = 60000\n",
    "\n",
    "\n",
    "theta, training_loss_history, validation_loss_history, training_accuracy_history, validation_accuracy_history = gradient_descent(training_data,\n",
    "                                                                                                                                training_labels,\n",
    "                                                                                                                                validation_data,\n",
    "                                                                                                                                validation_labels,\n",
    "                                                                                                                                theta,\n",
    "                                                                                                                                alpha,\n",
    "                                                                                                                                epochs)\n",
    "\n",
    "\n"
   ]
  },
  {
   "cell_type": "markdown",
   "id": "1336c698-940c-47f0-b5dd-c95da5366f3e",
   "metadata": {},
   "source": [
    "<b>Answer to Question 1. </b> The following sections are considered the answer to question 1."
   ]
  },
  {
   "cell_type": "code",
   "execution_count": 5,
   "id": "3ddaa7d2-6f68-469f-9f92-b2798eab77a4",
   "metadata": {},
   "outputs": [
    {
     "data": {
      "image/png": "[encoded data removed]",
      "text/plain": [
       "<Figure size 432x288 with 1 Axes>"
      ]
     },
     "metadata": {
      "needs_background": "light"
     },
     "output_type": "display_data"
    }
   ],
   "source": [
    "plt.plot(range(1, len(training_loss_history)+ 1), training_loss_history, label=\"Training Loss\")\n",
    "plt.plot(range(1, len(validation_loss_history) + 1), validation_loss_history, label=\"Validation Loss\")\n",
    "plt.xlabel(\"Iterations\")\n",
    "plt.ylabel(\"Loss Value\")\n",
    "plt.title(\"Training and Validation Loss for all Input Features\")\n",
    "plt.legend()\n",
    "plt.show()"
   ]
  },
  {
   "cell_type": "code",
   "execution_count": 6,
   "id": "edaf49b3-6a16-47f1-bce6-1642ac60d149",
   "metadata": {},
   "outputs": [
    {
     "data": {
      "image/png": "[encoded data removed]",
      "text/plain": [
       "<Figure size 432x288 with 1 Axes>"
      ]
     },
     "metadata": {
      "needs_background": "light"
     },
     "output_type": "display_data"
    },
    {
     "name": "stdout",
     "output_type": "stream",
     "text": [
      "Final Valdiation Accuracy:  0.956140350877193\n"
     ]
    }
   ],
   "source": [
    "plt.plot(range(1, len(training_accuracy_history)+ 1), training_accuracy_history, label=\"Training Accuracy\")\n",
    "plt.plot(range(1, len(validation_accuracy_history) + 1), validation_accuracy_history, label=\"Validation Accuracy\")\n",
    "plt.xlabel(\"Iterations\")\n",
    "plt.ylabel(\"Loss Value\")\n",
    "plt.title(\"Training and Validation Accuracy for all Input Features\")\n",
    "plt.legend()\n",
    "plt.show()\n",
    "print(\"Final Valdiation Accuracy: \", validation_accuracy_history[-1])"
   ]
  },
  {
   "cell_type": "markdown",
   "id": "50fa05d8-b219-4c3b-9d91-f6bce60d620a",
   "metadata": {},
   "source": [
    "As illustrated by the Training and Validation Loss for All Inputs graph and Training and Validation Accuraacy for all Input Features graph in section 5 and 6 above, the logistic rgression model can be trained for all 30 input features. However it was quickly noticed that a very large amount of epochs were needed to allow the model to reach convergence in gradient descent. It is speculated that the high dimensionality of the dataset coupled with the relatively low amount of samples within the dataset was the main reason for this observation. With high dimensionality and low obersvations within the input dataset, the logistic regression model struggled to train/reach convergence. The model was only able to approach convergence with a large amount of epochs. Also, as indicated by the Training and Validation Loss figure, it appears that there is slight overfitting of the model during the end of the iterations. This is anticipated because logistic regression models typically overfit on datasets with high dimensionality and relatively low observation count. \n",
    "\n",
    "As illustrated in the Training and Validation accuracy graph in section 6, the training and validation accuracy generally increased as the amount of iterations increased. The training and validation accuracy only stablized/flat-lined once training convergence was met. This trend provides additional support to the fact that the logistic regression model could be trainable for all 30 input features. However, a large amount of iterations were needed in order to make the model approach convergence during gradient descent."
   ]
  },
  {
   "cell_type": "markdown",
   "id": "eabb9b9e-6954-4bfc-9c87-49ba8cfbfe19",
   "metadata": {},
   "source": [
    "The resulting sections will cover explanations, code, and plots pertaining to PROBLEM 2 of the homework. \n",
    "===========================================================================================================================\n",
    "The task is to use the a cancer patient dataset and use PCA feature extraction during the training of a logistic regression model. The optimum number of \n",
    "K principle components that achieve the highest clasfication accuracy will be selected. Since it is not required to plot loss and classification accuracy over iterations in this problem, the built in logistic regression API will be used. \n",
    " \n"
   ]
  },
  {
   "cell_type": "markdown",
   "id": "2d7466ad-a409-4d94-9e96-11c8e7844569",
   "metadata": {},
   "source": [
    "The first step is to perform normalization on the input data and then PCA on the input data."
   ]
  },
  {
   "cell_type": "code",
   "execution_count": 7,
   "id": "53c704cf-b954-48f3-b84f-44f74663c56e",
   "metadata": {},
   "outputs": [
    {
     "name": "stdout",
     "output_type": "stream",
     "text": [
      "Input Data Shape:  (569, 30)\n",
      "Data Label Shape:  (569,)\n"
     ]
    }
   ],
   "source": [
    "input_data = breast_data_df.values[:, :-1]\n",
    "labels = breast_data_df.values[:, -1]\n",
    "\n",
    "print(\"Input Data Shape: \", input_data.shape)\n",
    "print(\"Data Label Shape: \", labels.shape)\n",
    "\n",
    "# Perform min max scaler on input data.\n",
    "scaler = MinMaxScaler()\n",
    "input_data = scaler.fit_transform(input_data)\n",
    "\n",
    "\n",
    "# Perform Principal Component Analysis on Input Data.\n",
    "pca = PCA()\n",
    "principal_components = pca.fit_transform(input_data)\n",
    "\n",
    "training_data_pcs, validation_data_pcs, training_labels_pcs, validation_labels_pcs = train_test_split(principal_components, labels, train_size=0.8, test_size=0.2, random_state=np.random)"
   ]
  },
  {
   "cell_type": "markdown",
   "id": "218bf209-f219-4bc6-8594-f0dc54d1e0ad",
   "metadata": {},
   "source": [
    "The next step is to perform logistic regression  on N number of independent training (N=1, ...., K). Where K is the maximum possible amount of principal components that can be used."
   ]
  },
  {
   "cell_type": "code",
   "execution_count": 8,
   "id": "54ea0252-9800-44f5-90c4-6aa4c30b7e84",
   "metadata": {},
   "outputs": [],
   "source": [
    "from sklearn import metrics\n",
    "from sklearn.linear_model import LogisticRegression\n",
    "\n",
    "max_possible_k_components = principal_components.shape[1]\n",
    "\n",
    "accuracy_history = np.zeros(max_possible_k_components)\n",
    "precision_history = np.zeros(max_possible_k_components)\n",
    "recall_history = np.zeros(max_possible_k_components)\n",
    "best_k_value = 0\n",
    "best_accuracy = 0\n",
    "\n",
    "for num_principal_components in range(1, max_possible_k_components+1):\n",
    "    # Perform logistic regresion. \n",
    "    model = LogisticRegression()\n",
    "    model.fit(training_data_pcs[:, :num_principal_components], training_labels_pcs) # Fit the model only for the amount of principal components for the current iteration.\n",
    "    predictions = model.predict(validation_data_pcs[:, :num_principal_components])\n",
    "    \n",
    "    # Perform metrics for the current logistic regression model.\n",
    "    precision_history[num_principal_components-1] = metrics.precision_score(validation_labels_pcs, predictions)\n",
    "    recall_history[num_principal_components-1] = metrics.recall_score(validation_labels_pcs, predictions)\n",
    "    accuracy_history[num_principal_components-1] = metrics.accuracy_score(validation_labels_pcs, predictions)\n",
    "    \n",
    "    # Determine if the current logistic regression model produces the best classification accuracy. \n",
    "    if metrics.accuracy_score(validation_labels_pcs, predictions) > best_accuracy:\n",
    "        best_accuracy = metrics.accuracy_score(validation_labels_pcs, predictions)\n",
    "        best_k_value = num_principal_components\n",
    "        \n",
    "\n",
    "\n",
    "        \n",
    "    \n",
    "    \n",
    "    \n",
    "\n",
    "\n"
   ]
  },
  {
   "cell_type": "markdown",
   "id": "1e5bc748-41e8-4d23-bd18-81d1fcf3deda",
   "metadata": {},
   "source": [
    "<b>Answer to Question 2. </b> The following sections are considered the answer to question 2."
   ]
  },
  {
   "cell_type": "code",
   "execution_count": 9,
   "id": "9591cb02-c095-424f-83ff-af1292d73684",
   "metadata": {},
   "outputs": [
    {
     "data": {
      "image/png": "[encoded data removed]",
      "text/plain": [
       "<Figure size 432x288 with 1 Axes>"
      ]
     },
     "metadata": {
      "needs_background": "light"
     },
     "output_type": "display_data"
    },
    {
     "name": "stdout",
     "output_type": "stream",
     "text": [
      "Best K Value :  5\n",
      "Model Accuracy Score at Best K Value: 0.9825\n",
      "Model Recall Score at Best K Value: 1.0000\n",
      "Model Precision Score at Best K Value: 0.9714\n"
     ]
    }
   ],
   "source": [
    "plt.plot(range(1, max_possible_k_components+1), precision_history, label=\"Precision\")\n",
    "plt.plot(range(1, max_possible_k_components+1), recall_history, label=\"Recall\")\n",
    "plt.plot(range(1, max_possible_k_components+1), accuracy_history, label=\"Accuracy\")\n",
    "plt.xlabel(\"Number of Principal Components Used in Model\")\n",
    "plt.ylabel(\"Metric Value\")\n",
    "plt.legend()\n",
    "plt.title(\"Validation Precision, Recall, and Accuracy for Various Logistic Regression Models Trained with Different Number of Principal Components\")\n",
    "plt.show()\n",
    "print(\"Best K Value : \", best_k_value)\n",
    "print(\"Model Accuracy Score at Best K Value: {:.4f}\".format(accuracy_history[best_k_value-1]))\n",
    "print(\"Model Recall Score at Best K Value: {:.4f}\".format(recall_history[best_k_value - 1]))\n",
    "print(\"Model Precision Score at Best K Value: {:.4f}\".format(precision_history[best_k_value - 1]))"
   ]
  },
  {
   "cell_type": "markdown",
   "id": "fd96c2d9-bcab-4c2b-b536-4c438cda8fde",
   "metadata": {},
   "source": [
    "The figure produced in section 9 illustrates the Precision, Recall, and Accuracy of logistic regresion models that were trained on various numbers of principal components. As illustrated in this figure, the best/optimum number of principal components is 4. With this optimum K value of 4, the accuracy of this logistic regression model was shown to be better than the accuracy of the logistic regression model trained to all 30 input features of the cancer dataset. This observation was expected because the logistic regression model performs worse with datasets that have high dimensionality and relatively low amount of observations. Because PCA has considerably reduced the number of features within the dataset, the model performance had increased. \n",
    "\n",
    "It was also observed that the accuracy and precision increased until the best K value was reached. As the K value was increased further, the precision and accuracy remained unchanged. It is specualted that this phenomenon has occured because almost all of the representation for the dataset has already been included in the first 4 principal components(determined to be the optimal K value), and that additional principal components added to the model adds insignificant amount of information to the model during training. \n",
    "\n",
    "It is also observed that the recall decreased as the optimal K value was reached. It is speculated that this is common since the recall typically decreases as the precision increases."
   ]
  },
  {
   "cell_type": "markdown",
   "id": "8f914f64-ca65-47f0-9db9-e2121655eb96",
   "metadata": {},
   "source": [
    "The resulting sections will cover explanations, code, and plots pertaining to PROBLEM 3 of the homework. \n",
    "===========================================================================================================================\n",
    "The task is to use the a cancer patient dataset and use LDA feature extraction during the training of the built in naive bayes classifier model. "
   ]
  },
  {
   "cell_type": "markdown",
   "id": "2c07c255-913b-4ced-b9c0-9477c141c20c",
   "metadata": {},
   "source": [
    "The first step is to split the input data into training and test data.\n"
   ]
  },
  {
   "cell_type": "code",
   "execution_count": 10,
   "id": "78b28a53-29ab-4ba4-b8de-66217d856f18",
   "metadata": {},
   "outputs": [
    {
     "name": "stdout",
     "output_type": "stream",
     "text": [
      "Input Data Shape:  (569, 30)\n",
      "Data Label Shape:  (569,)\n"
     ]
    }
   ],
   "source": [
    "input_data = breast_data_df.values[:, :-1]\n",
    "labels = breast_data_df.values[:, -1]\n",
    "\n",
    "print(\"Input Data Shape: \", input_data.shape)\n",
    "print(\"Data Label Shape: \", labels.shape)\n",
    "\n",
    "# Perform min max scaler on input data.\n",
    "scaler = MinMaxScaler()\n",
    "input_data = scaler.fit_transform(input_data)\n",
    "\n",
    "# split training and validation data based on a 80%, 20% split.\n",
    "np.random.seed(0)\n",
    "training_data, validation_data, training_labels, validation_labels = train_test_split(input_data, labels, train_size=0.8, test_size=0.2, random_state=np.random)"
   ]
  },
  {
   "cell_type": "markdown",
   "id": "1de89e20-be4d-4c93-a9ab-d196ca508f41",
   "metadata": {},
   "source": [
    "The next step is to perform Linear Discriminant Analysis with Naive Bayes Classification."
   ]
  },
  {
   "cell_type": "code",
   "execution_count": 11,
   "id": "b96c8b0f-2304-42cc-af22-6c6232345241",
   "metadata": {},
   "outputs": [
    {
     "name": "stdout",
     "output_type": "stream",
     "text": [
      "Accuracy Score: 0.9649\n",
      "Recall Score: 1.0000\n",
      "Precision Score: 0.9437\n"
     ]
    }
   ],
   "source": [
    "from sklearn.discriminant_analysis import LinearDiscriminantAnalysis\n",
    "\n",
    "\n",
    "# Perform LDA with Naive Bayes Classification.\n",
    "lda_model = LinearDiscriminantAnalysis()\n",
    "lda_model.fit(training_data, training_labels)\n",
    "predictions = lda_model.predict(validation_data)\n",
    "\n",
    "# Obtain Metrics for the  Naive Bayes Model with LDA feature extraction.\n",
    "accuracy = metrics.accuracy_score(validation_labels, predictions)\n",
    "recall = metrics.recall_score(validation_labels, predictions)\n",
    "precision = metrics.precision_score(validation_labels, predictions)\n",
    "\n",
    "print(\"Accuracy Score: {:.4f}\".format(accuracy))\n",
    "print(\"Recall Score: {:.4f}\".format(recall))\n",
    "print(\"Precision Score: {:.4f}\".format(precision))\n"
   ]
  },
  {
   "cell_type": "markdown",
   "id": "751ed1dc-d7b6-4778-9d99-ba345a52f402",
   "metadata": {},
   "source": [
    "<b>Answer to Question 3. </b> The following sections are considered the answer to question 3."
   ]
  },
  {
   "cell_type": "markdown",
   "id": "b2933731-17d1-46ac-be5e-0438744add48",
   "metadata": {},
   "source": [
    "The metrics printed in section 11 illustrate the accuracy, recall, and precision of LDA with the built in Naive Bayes classifier model. The accuracy of the LDA with Naive Bayes classifier lower than the accuracy of the logistic regression model with PCA of 4 principal components. However, the accuracy of LDA with built in Naive Bayes model is higher than the logistic regression model with no feature extraction. It is believed that the LDA with Naive bayes contains a lower accuracy than that of the logistic regression model with PCA because the Naive Bayes classifier is typically not as generalizable. This may have caused a lower accuracy when validating on the test dataset. The recall score of the LDA with Naive Bayes was shown to be 1.00. This further indicates that the Naive Bayes model is not really generalized. The precision of the LDA with Naive Bayes approach(0.9437) was shown to be lower than the precision of the of the logistic regression model(0.9714) with PCA(4 principal components)."
   ]
  },
  {
   "cell_type": "markdown",
   "id": "a40a14a7-31ee-4c20-92ca-ee6f6ed32959",
   "metadata": {},
   "source": [
    "The resulting sections will cover explanations, code, and plots pertaining to PROBLEM 4 of the homework. \n",
    "===========================================================================================================================\n",
    "The task is to use the a cancer patient dataset and use LDA feature extraction with Logistic Regression classification. The accuracy, precision, and recall will be compared to the models used in problem 2 and 3."
   ]
  },
  {
   "cell_type": "markdown",
   "id": "21687497-8d3d-4a17-893e-85baa5f00de9",
   "metadata": {},
   "source": [
    "The first step is to split the input data into training and test data and peform LDA on input data.\n"
   ]
  },
  {
   "cell_type": "code",
   "execution_count": 12,
   "id": "bfa626cb-4d0f-41c7-ad5c-69758effcc09",
   "metadata": {},
   "outputs": [
    {
     "name": "stdout",
     "output_type": "stream",
     "text": [
      "Input Data Shape:  (569, 30)\n",
      "Data Label Shape:  (569,)\n"
     ]
    }
   ],
   "source": [
    "input_data = breast_data_df.values[:, :-1]\n",
    "labels = breast_data_df.values[:, -1]\n",
    "\n",
    "print(\"Input Data Shape: \", input_data.shape)\n",
    "print(\"Data Label Shape: \", labels.shape)\n",
    "\n",
    "# Perform min max scaler on input data.\n",
    "scaler = MinMaxScaler()\n",
    "input_data = scaler.fit_transform(input_data)\n",
    "\n",
    "# Perform LDA on input data.\n",
    "lda = LinearDiscriminantAnalysis()\n",
    "input_data_lda = lda.fit_transform(input_data, labels)\n",
    "\n",
    "# split training and validation data based on a 80%, 20% split.\n",
    "np.random.seed(0)\n",
    "training_data, validation_data, training_labels, validation_labels = train_test_split(input_data_lda, labels, train_size=0.8, test_size=0.2, random_state=np.random)"
   ]
  },
  {
   "cell_type": "markdown",
   "id": "f50163d6-70a1-49cd-9def-bc848f923097",
   "metadata": {},
   "source": [
    "The next step is to perform logistic regression. note that the built in Logistic Regression API can be used."
   ]
  },
  {
   "cell_type": "code",
   "execution_count": 13,
   "id": "4103fa70-e3be-457a-b26d-6aa830cb2c7b",
   "metadata": {},
   "outputs": [
    {
     "name": "stdout",
     "output_type": "stream",
     "text": [
      "Accuracy Score: 0.9737\n",
      "Recall Score: 0.9851\n",
      "Precision Score: 0.9706\n"
     ]
    }
   ],
   "source": [
    "logistic_regression_model = LogisticRegression()\n",
    "logistic_regression_model.fit(training_data, training_labels)\n",
    "predictions = logistic_regression_model.predict(validation_data)\n",
    "\n",
    "\n",
    "print(\"Accuracy Score: {:.4f}\".format(metrics.accuracy_score(validation_labels, predictions)))\n",
    "print(\"Recall Score: {:.4f}\".format(metrics.recall_score(validation_labels, predictions)))\n",
    "print(\"Precision Score: {:.4f}\".format(metrics.precision_score(validation_labels, predictions)))"
   ]
  },
  {
   "cell_type": "markdown",
   "id": "2b2e9959-69d8-43bd-975f-ae40fcf5b2e9",
   "metadata": {},
   "source": [
    "<b>Answer to Question 4. </b> The following sections are considered the answer to question 4."
   ]
  },
  {
   "cell_type": "markdown",
   "id": "84671b93-ab84-4742-af77-5dbdfd5b132d",
   "metadata": {},
   "source": [
    "Yes, as indicated in section 13 above, a logistic model can be trained with LDA. \n",
    "\n",
    "As shown in section 13 above, the accuracy of the logistic regression model with LDA is higher than the accuracy of the Naive Bayes Model with LDA, however less than the accuracy of the logistic regression model with PCA. The speculated  that the logistic regression model with LDA has a higher accuracy than the Naive Bayes Model with LDA because of the non-generalized nature of the Naive Bayes model. Also, the naive bayes model having a higher recall than the logistic regression models also showcase the naive bayes model as not being very generalized. It is speculated that the logistic regression model with PDA has a lower accuracy than the logistic regression model with PCA because the logistic model with PCA contains more usable features(optimum of 4 principal components) than the logistic model with LDA(1 component). This shows that a  <u>slightly</u> higher number of features provided a better training environment for the logistic regression model.  \n",
    "\n",
    "The Recall of the logistic regression model with LDA was found to be lower than the recall of the logistic model with PCA. This indicates that the logistic regression model with LDA was slightly more generalized. The precision of the logistic regression model with LDA was found to be lower than the logistic model with PCA, however lower than the naive bayes model with LDA. "
   ]
  }
 ],
 "metadata": {
  "kernelspec": {
   "display_name": "Python 3",
   "language": "python",
   "name": "python3"
  },
  "language_info": {
   "codemirror_mode": {
    "name": "ipython",
    "version": 3
   },
   "file_extension": ".py",
   "mimetype": "text/x-python",
   "name": "python",
   "nbconvert_exporter": "python",
   "pygments_lexer": "ipython3",
   "version": "3.8.8"
  }
 },
 "nbformat": 4,
 "nbformat_minor": 5
}
